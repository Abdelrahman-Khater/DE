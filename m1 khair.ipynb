{
 "cells": [
  {
   "cell_type": "markdown",
   "metadata": {},
   "source": [
    "# Milestone 1 - EDA and Preprocessing data "
   ]
  },
  {
   "cell_type": "markdown",
   "metadata": {},
   "source": [
    "- Load dataset\n",
    "- Explore the dataset and ask atleast 5 questions to give you a better understanding of the data provided to you. \n",
    "- Visualise the answer to these 5 questions.\n",
    "- Cleaing the data\n",
    "- Observe missing data and comment on why you believe it is missing(MCAR,MAR or MNAR) \n",
    "- Observe duplicate data\n",
    "- Observe outliers\n",
    "- After observing outliers,missing data and duplicates, handle any unclean data.\n",
    "- With every change you are making to the data you need to comment on why you used this technique and how has it affected the data(by both showing the change in the data i.e change in number of rows/columns,change in distrubution, etc and commenting on it).\n",
    "- Data transformation and feature engineering\n",
    "- Add a new column named 'Week number' and discretisize the data into weeks according to the dates.Tip: Change the datatype of the date feature to datetime type instead of object.\n",
    "- Encode any categorical feature(s) and comment on why you used this technique and how the data has changed.\n",
    "- Identify feature(s) which need normalisation and show your reasoning.Then choose a technique to normalise the feature(s) and comment on why you chose this technique.\n",
    "- Add atleast two more columns which adds more info to the dataset by evaluating specific feature(s). I.E( Column indicating whether the accident was on a weekend or not). \n",
    "- For any imputation with arbitrary values or encoding done, you have to store what the value imputed or encoded represents in a new csv file. I.e if you impute a missing value with -1 or 100 you must have a csv file illustrating what -1 and 100 means. Or for instance, if you encode cities with 1,2,3,4,etc what each number represents must be shown in the new csv file.\n",
    "- Load the new dataset into a csv file.\n",
    "- **Extremely Important note** - Your code should be as generic as possible and not hard-coded and be able to work with various datasets. Any hard-coded solutions will be severely penalised.\n",
    "- Bonus: Load the dataset as a parquet file instead of a csv file(Parquet file is a compressed file format)."
   ]
  },
  {
   "cell_type": "markdown",
   "metadata": {},
   "source": [
    "# 1 - Extraction"
   ]
  },
  {
   "cell_type": "code",
   "execution_count": 91,
   "metadata": {},
   "outputs": [],
   "source": [
    "import pandas as pd\n",
    "import seaborn as sns\n",
    "import matplotlib.pyplot as plt\n",
    "# For min_max scaling\n",
    "from sklearn.preprocessing import MinMaxScaler\n",
    "import numpy as np"
   ]
  },
  {
   "cell_type": "code",
   "execution_count": 89,
   "metadata": {},
   "outputs": [
    {
     "name": "stderr",
     "output_type": "stream",
     "text": [
      "C:\\Users\\omark\\AppData\\Local\\Temp\\ipykernel_26360\\611391872.py:1: DtypeWarning: Columns (35) have mixed types. Specify dtype option on import or set low_memory=False.\n",
      "  dataset = pd.read_csv('2016_Accidents_UK.csv')\n"
     ]
    },
    {
     "data": {
      "text/html": [
       "<div>\n",
       "<style scoped>\n",
       "    .dataframe tbody tr th:only-of-type {\n",
       "        vertical-align: middle;\n",
       "    }\n",
       "\n",
       "    .dataframe tbody tr th {\n",
       "        vertical-align: top;\n",
       "    }\n",
       "\n",
       "    .dataframe thead th {\n",
       "        text-align: right;\n",
       "    }\n",
       "</style>\n",
       "<table border=\"1\" class=\"dataframe\">\n",
       "  <thead>\n",
       "    <tr style=\"text-align: right;\">\n",
       "      <th></th>\n",
       "      <th>accident_index</th>\n",
       "      <th>accident_year</th>\n",
       "      <th>accident_reference</th>\n",
       "      <th>location_easting_osgr</th>\n",
       "      <th>location_northing_osgr</th>\n",
       "      <th>longitude</th>\n",
       "      <th>latitude</th>\n",
       "      <th>police_force</th>\n",
       "      <th>accident_severity</th>\n",
       "      <th>number_of_vehicles</th>\n",
       "      <th>number_of_casualties</th>\n",
       "      <th>date</th>\n",
       "      <th>day_of_week</th>\n",
       "      <th>time</th>\n",
       "      <th>local_authority_district</th>\n",
       "      <th>local_authority_ons_district</th>\n",
       "      <th>local_authority_highway</th>\n",
       "      <th>first_road_class</th>\n",
       "      <th>first_road_number</th>\n",
       "      <th>road_type</th>\n",
       "      <th>speed_limit</th>\n",
       "      <th>junction_detail</th>\n",
       "      <th>junction_control</th>\n",
       "      <th>second_road_class</th>\n",
       "      <th>second_road_number</th>\n",
       "      <th>pedestrian_crossing_human_control</th>\n",
       "      <th>pedestrian_crossing_physical_facilities</th>\n",
       "      <th>light_conditions</th>\n",
       "      <th>weather_conditions</th>\n",
       "      <th>road_surface_conditions</th>\n",
       "      <th>special_conditions_at_site</th>\n",
       "      <th>carriageway_hazards</th>\n",
       "      <th>urban_or_rural_area</th>\n",
       "      <th>did_police_officer_attend_scene_of_accident</th>\n",
       "      <th>trunk_road_flag</th>\n",
       "      <th>lsoa_of_accident_location</th>\n",
       "    </tr>\n",
       "  </thead>\n",
       "  <tbody>\n",
       "    <tr>\n",
       "      <th>0</th>\n",
       "      <td>2016010000005</td>\n",
       "      <td>2016</td>\n",
       "      <td>010000005</td>\n",
       "      <td>519310.0</td>\n",
       "      <td>188730.0</td>\n",
       "      <td>-0.279323</td>\n",
       "      <td>51.584754</td>\n",
       "      <td>Metropolitan Police</td>\n",
       "      <td>Slight</td>\n",
       "      <td>2</td>\n",
       "      <td>1</td>\n",
       "      <td>01/11/2016</td>\n",
       "      <td>Tuesday</td>\n",
       "      <td>02:30</td>\n",
       "      <td>Brent</td>\n",
       "      <td>Brent</td>\n",
       "      <td>Brent</td>\n",
       "      <td>A</td>\n",
       "      <td>4006</td>\n",
       "      <td>Single carriageway</td>\n",
       "      <td>30.0</td>\n",
       "      <td>Not at junction or within 20 metres</td>\n",
       "      <td>Data missing or out of range</td>\n",
       "      <td>-1</td>\n",
       "      <td>NaN</td>\n",
       "      <td>None within 50 metres</td>\n",
       "      <td>No physical crossing facilities within 50 metres</td>\n",
       "      <td>Darkness - lights unlit</td>\n",
       "      <td>Fine no high winds</td>\n",
       "      <td>Dry</td>\n",
       "      <td>None</td>\n",
       "      <td>None</td>\n",
       "      <td>Urban</td>\n",
       "      <td>Yes</td>\n",
       "      <td>Non-trunk</td>\n",
       "      <td>E01000543</td>\n",
       "    </tr>\n",
       "    <tr>\n",
       "      <th>1</th>\n",
       "      <td>2016010000006</td>\n",
       "      <td>2016</td>\n",
       "      <td>010000006</td>\n",
       "      <td>551920.0</td>\n",
       "      <td>174560.0</td>\n",
       "      <td>0.184928</td>\n",
       "      <td>51.449595</td>\n",
       "      <td>Metropolitan Police</td>\n",
       "      <td>Slight</td>\n",
       "      <td>1</td>\n",
       "      <td>1</td>\n",
       "      <td>01/11/2016</td>\n",
       "      <td>Tuesday</td>\n",
       "      <td>00:37</td>\n",
       "      <td>Bexley</td>\n",
       "      <td>Bexley</td>\n",
       "      <td>Bexley</td>\n",
       "      <td>A</td>\n",
       "      <td>207</td>\n",
       "      <td>Single carriageway</td>\n",
       "      <td>30.0</td>\n",
       "      <td>Other junction</td>\n",
       "      <td>Give way or uncontrolled</td>\n",
       "      <td>Unclassified</td>\n",
       "      <td>first_road_class is C or Unclassified. These r...</td>\n",
       "      <td>None within 50 metres</td>\n",
       "      <td>No physical crossing facilities within 50 metres</td>\n",
       "      <td>Darkness - lights lit</td>\n",
       "      <td>Fine no high winds</td>\n",
       "      <td>Dry</td>\n",
       "      <td>None</td>\n",
       "      <td>None</td>\n",
       "      <td>Urban</td>\n",
       "      <td>Yes</td>\n",
       "      <td>Non-trunk</td>\n",
       "      <td>E01000375</td>\n",
       "    </tr>\n",
       "    <tr>\n",
       "      <th>2</th>\n",
       "      <td>2016010000008</td>\n",
       "      <td>2016</td>\n",
       "      <td>010000008</td>\n",
       "      <td>505930.0</td>\n",
       "      <td>183850.0</td>\n",
       "      <td>-0.473837</td>\n",
       "      <td>51.543563</td>\n",
       "      <td>Metropolitan Police</td>\n",
       "      <td>Slight</td>\n",
       "      <td>1</td>\n",
       "      <td>1</td>\n",
       "      <td>01/11/2016</td>\n",
       "      <td>Tuesday</td>\n",
       "      <td>01:25</td>\n",
       "      <td>Hillingdon</td>\n",
       "      <td>Hillingdon</td>\n",
       "      <td>Hillingdon</td>\n",
       "      <td>A</td>\n",
       "      <td>4020</td>\n",
       "      <td>Roundabout</td>\n",
       "      <td>30.0</td>\n",
       "      <td>Roundabout</td>\n",
       "      <td>Give way or uncontrolled</td>\n",
       "      <td>A</td>\n",
       "      <td>4020.0</td>\n",
       "      <td>None within 50 metres</td>\n",
       "      <td>No physical crossing facilities within 50 metres</td>\n",
       "      <td>Darkness - lights lit</td>\n",
       "      <td>Fine no high winds</td>\n",
       "      <td>Dry</td>\n",
       "      <td>None</td>\n",
       "      <td>None</td>\n",
       "      <td>Urban</td>\n",
       "      <td>Yes</td>\n",
       "      <td>Non-trunk</td>\n",
       "      <td>E01033725</td>\n",
       "    </tr>\n",
       "    <tr>\n",
       "      <th>3</th>\n",
       "      <td>2016010000016</td>\n",
       "      <td>2016</td>\n",
       "      <td>010000016</td>\n",
       "      <td>527770.0</td>\n",
       "      <td>168930.0</td>\n",
       "      <td>-0.164442</td>\n",
       "      <td>51.404958</td>\n",
       "      <td>Metropolitan Police</td>\n",
       "      <td>Slight</td>\n",
       "      <td>1</td>\n",
       "      <td>1</td>\n",
       "      <td>01/11/2016</td>\n",
       "      <td>Tuesday</td>\n",
       "      <td>09:15</td>\n",
       "      <td>Merton</td>\n",
       "      <td>Merton</td>\n",
       "      <td>Merton</td>\n",
       "      <td>A</td>\n",
       "      <td>217</td>\n",
       "      <td>Single carriageway</td>\n",
       "      <td>30.0</td>\n",
       "      <td>T or staggered junction</td>\n",
       "      <td>Auto traffic signal</td>\n",
       "      <td>A</td>\n",
       "      <td>217.0</td>\n",
       "      <td>None within 50 metres</td>\n",
       "      <td>No physical crossing facilities within 50 metres</td>\n",
       "      <td>Daylight</td>\n",
       "      <td>Fine no high winds</td>\n",
       "      <td>Dry</td>\n",
       "      <td>None</td>\n",
       "      <td>None</td>\n",
       "      <td>Urban</td>\n",
       "      <td>Yes</td>\n",
       "      <td>Non-trunk</td>\n",
       "      <td>E01003379</td>\n",
       "    </tr>\n",
       "    <tr>\n",
       "      <th>4</th>\n",
       "      <td>2016010000018</td>\n",
       "      <td>2016</td>\n",
       "      <td>010000018</td>\n",
       "      <td>510740.0</td>\n",
       "      <td>177230.0</td>\n",
       "      <td>-0.406580</td>\n",
       "      <td>51.483139</td>\n",
       "      <td>Metropolitan Police</td>\n",
       "      <td>Slight</td>\n",
       "      <td>2</td>\n",
       "      <td>1</td>\n",
       "      <td>01/11/2016</td>\n",
       "      <td>Tuesday</td>\n",
       "      <td>07:53</td>\n",
       "      <td>Hounslow</td>\n",
       "      <td>Hounslow</td>\n",
       "      <td>Hounslow</td>\n",
       "      <td>A</td>\n",
       "      <td>312</td>\n",
       "      <td>Dual carriageway</td>\n",
       "      <td>40.0</td>\n",
       "      <td>Not at junction or within 20 metres</td>\n",
       "      <td>Data missing or out of range</td>\n",
       "      <td>-1</td>\n",
       "      <td>NaN</td>\n",
       "      <td>None within 50 metres</td>\n",
       "      <td>No physical crossing facilities within 50 metres</td>\n",
       "      <td>Daylight</td>\n",
       "      <td>Fine no high winds</td>\n",
       "      <td>Dry</td>\n",
       "      <td>None</td>\n",
       "      <td>None</td>\n",
       "      <td>Urban</td>\n",
       "      <td>Yes</td>\n",
       "      <td>Non-trunk</td>\n",
       "      <td>E01002583</td>\n",
       "    </tr>\n",
       "    <tr>\n",
       "      <th>5</th>\n",
       "      <td>2016010000019</td>\n",
       "      <td>2016</td>\n",
       "      <td>010000019</td>\n",
       "      <td>530840.0</td>\n",
       "      <td>167100.0</td>\n",
       "      <td>-0.121004</td>\n",
       "      <td>51.387813</td>\n",
       "      <td>Metropolitan Police</td>\n",
       "      <td>Slight</td>\n",
       "      <td>2</td>\n",
       "      <td>1</td>\n",
       "      <td>01/11/2016</td>\n",
       "      <td>Tuesday</td>\n",
       "      <td>09:29</td>\n",
       "      <td>Croydon</td>\n",
       "      <td>Croydon</td>\n",
       "      <td>Croydon</td>\n",
       "      <td>A</td>\n",
       "      <td>23</td>\n",
       "      <td>Single carriageway</td>\n",
       "      <td>30.0</td>\n",
       "      <td>T or staggered junction</td>\n",
       "      <td>Give way or uncontrolled</td>\n",
       "      <td>Unclassified</td>\n",
       "      <td>first_road_class is C or Unclassified. These r...</td>\n",
       "      <td>None within 50 metres</td>\n",
       "      <td>Central refuge</td>\n",
       "      <td>Daylight</td>\n",
       "      <td>Fine no high winds</td>\n",
       "      <td>Dry</td>\n",
       "      <td>None</td>\n",
       "      <td>None</td>\n",
       "      <td>Urban</td>\n",
       "      <td>Yes</td>\n",
       "      <td>Non-trunk</td>\n",
       "      <td>E01001180</td>\n",
       "    </tr>\n",
       "    <tr>\n",
       "      <th>6</th>\n",
       "      <td>2016010000020</td>\n",
       "      <td>2016</td>\n",
       "      <td>010000020</td>\n",
       "      <td>527610.0</td>\n",
       "      <td>181430.0</td>\n",
       "      <td>-0.162234</td>\n",
       "      <td>51.517333</td>\n",
       "      <td>Metropolitan Police</td>\n",
       "      <td>Slight</td>\n",
       "      <td>1</td>\n",
       "      <td>1</td>\n",
       "      <td>01/11/2016</td>\n",
       "      <td>Tuesday</td>\n",
       "      <td>08:53</td>\n",
       "      <td>Westminster</td>\n",
       "      <td>Westminster</td>\n",
       "      <td>Westminster</td>\n",
       "      <td>C</td>\n",
       "      <td>first_road_class is C or Unclassified. These r...</td>\n",
       "      <td>Single carriageway</td>\n",
       "      <td>30.0</td>\n",
       "      <td>Not at junction or within 20 metres</td>\n",
       "      <td>Data missing or out of range</td>\n",
       "      <td>-1</td>\n",
       "      <td>NaN</td>\n",
       "      <td>None within 50 metres</td>\n",
       "      <td>No physical crossing facilities within 50 metres</td>\n",
       "      <td>Daylight</td>\n",
       "      <td>Fine no high winds</td>\n",
       "      <td>Dry</td>\n",
       "      <td>None</td>\n",
       "      <td>None</td>\n",
       "      <td>Urban</td>\n",
       "      <td>Yes</td>\n",
       "      <td>Non-trunk</td>\n",
       "      <td>E01004658</td>\n",
       "    </tr>\n",
       "    <tr>\n",
       "      <th>7</th>\n",
       "      <td>2016010000021</td>\n",
       "      <td>2016</td>\n",
       "      <td>010000021</td>\n",
       "      <td>523830.0</td>\n",
       "      <td>189460.0</td>\n",
       "      <td>-0.213859</td>\n",
       "      <td>51.590341</td>\n",
       "      <td>Metropolitan Police</td>\n",
       "      <td>Slight</td>\n",
       "      <td>2</td>\n",
       "      <td>1</td>\n",
       "      <td>01/11/2016</td>\n",
       "      <td>Tuesday</td>\n",
       "      <td>10:05</td>\n",
       "      <td>Barnet</td>\n",
       "      <td>Barnet</td>\n",
       "      <td>Barnet</td>\n",
       "      <td>A</td>\n",
       "      <td>504</td>\n",
       "      <td>Single carriageway</td>\n",
       "      <td>30.0</td>\n",
       "      <td>T or staggered junction</td>\n",
       "      <td>Give way or uncontrolled</td>\n",
       "      <td>Unclassified</td>\n",
       "      <td>first_road_class is C or Unclassified. These r...</td>\n",
       "      <td>None within 50 metres</td>\n",
       "      <td>No physical crossing facilities within 50 metres</td>\n",
       "      <td>Daylight</td>\n",
       "      <td>Fine no high winds</td>\n",
       "      <td>Dry</td>\n",
       "      <td>None</td>\n",
       "      <td>None</td>\n",
       "      <td>Urban</td>\n",
       "      <td>Yes</td>\n",
       "      <td>Non-trunk</td>\n",
       "      <td>E01000243</td>\n",
       "    </tr>\n",
       "    <tr>\n",
       "      <th>8</th>\n",
       "      <td>2016010000023</td>\n",
       "      <td>2016</td>\n",
       "      <td>010000023</td>\n",
       "      <td>524640.0</td>\n",
       "      <td>180620.0</td>\n",
       "      <td>-0.205302</td>\n",
       "      <td>51.510716</td>\n",
       "      <td>Metropolitan Police</td>\n",
       "      <td>Slight</td>\n",
       "      <td>1</td>\n",
       "      <td>1</td>\n",
       "      <td>01/11/2016</td>\n",
       "      <td>Tuesday</td>\n",
       "      <td>09:51</td>\n",
       "      <td>Kensington and Chelsea</td>\n",
       "      <td>Kensington and Chelsea</td>\n",
       "      <td>Kensington and Chelsea</td>\n",
       "      <td>B</td>\n",
       "      <td>450</td>\n",
       "      <td>Single carriageway</td>\n",
       "      <td>30.0</td>\n",
       "      <td>T or staggered junction</td>\n",
       "      <td>Give way or uncontrolled</td>\n",
       "      <td>Unclassified</td>\n",
       "      <td>first_road_class is C or Unclassified. These r...</td>\n",
       "      <td>None within 50 metres</td>\n",
       "      <td>No physical crossing facilities within 50 metres</td>\n",
       "      <td>Daylight</td>\n",
       "      <td>Fine no high winds</td>\n",
       "      <td>Dry</td>\n",
       "      <td>None</td>\n",
       "      <td>None</td>\n",
       "      <td>Urban</td>\n",
       "      <td>Yes</td>\n",
       "      <td>Non-trunk</td>\n",
       "      <td>E01002875</td>\n",
       "    </tr>\n",
       "    <tr>\n",
       "      <th>9</th>\n",
       "      <td>2016010000024</td>\n",
       "      <td>2016</td>\n",
       "      <td>010000024</td>\n",
       "      <td>540670.0</td>\n",
       "      <td>174700.0</td>\n",
       "      <td>0.023193</td>\n",
       "      <td>51.453758</td>\n",
       "      <td>Metropolitan Police</td>\n",
       "      <td>Slight</td>\n",
       "      <td>2</td>\n",
       "      <td>1</td>\n",
       "      <td>01/11/2016</td>\n",
       "      <td>Tuesday</td>\n",
       "      <td>09:45</td>\n",
       "      <td>Greenwich</td>\n",
       "      <td>Greenwich</td>\n",
       "      <td>Greenwich</td>\n",
       "      <td>A</td>\n",
       "      <td>20</td>\n",
       "      <td>Single carriageway</td>\n",
       "      <td>30.0</td>\n",
       "      <td>T or staggered junction</td>\n",
       "      <td>Give way or uncontrolled</td>\n",
       "      <td>Unclassified</td>\n",
       "      <td>first_road_class is C or Unclassified. These r...</td>\n",
       "      <td>None within 50 metres</td>\n",
       "      <td>No physical crossing facilities within 50 metres</td>\n",
       "      <td>Daylight</td>\n",
       "      <td>Fine no high winds</td>\n",
       "      <td>Dry</td>\n",
       "      <td>None</td>\n",
       "      <td>None</td>\n",
       "      <td>Urban</td>\n",
       "      <td>Yes</td>\n",
       "      <td>Non-trunk</td>\n",
       "      <td>E01001658</td>\n",
       "    </tr>\n",
       "  </tbody>\n",
       "</table>\n",
       "</div>"
      ],
      "text/plain": [
       "  accident_index  accident_year accident_reference  location_easting_osgr  \\\n",
       "0  2016010000005           2016          010000005               519310.0   \n",
       "1  2016010000006           2016          010000006               551920.0   \n",
       "2  2016010000008           2016          010000008               505930.0   \n",
       "3  2016010000016           2016          010000016               527770.0   \n",
       "4  2016010000018           2016          010000018               510740.0   \n",
       "5  2016010000019           2016          010000019               530840.0   \n",
       "6  2016010000020           2016          010000020               527610.0   \n",
       "7  2016010000021           2016          010000021               523830.0   \n",
       "8  2016010000023           2016          010000023               524640.0   \n",
       "9  2016010000024           2016          010000024               540670.0   \n",
       "\n",
       "   location_northing_osgr  longitude   latitude         police_force  \\\n",
       "0                188730.0  -0.279323  51.584754  Metropolitan Police   \n",
       "1                174560.0   0.184928  51.449595  Metropolitan Police   \n",
       "2                183850.0  -0.473837  51.543563  Metropolitan Police   \n",
       "3                168930.0  -0.164442  51.404958  Metropolitan Police   \n",
       "4                177230.0  -0.406580  51.483139  Metropolitan Police   \n",
       "5                167100.0  -0.121004  51.387813  Metropolitan Police   \n",
       "6                181430.0  -0.162234  51.517333  Metropolitan Police   \n",
       "7                189460.0  -0.213859  51.590341  Metropolitan Police   \n",
       "8                180620.0  -0.205302  51.510716  Metropolitan Police   \n",
       "9                174700.0   0.023193  51.453758  Metropolitan Police   \n",
       "\n",
       "  accident_severity  number_of_vehicles  number_of_casualties        date  \\\n",
       "0            Slight                   2                     1  01/11/2016   \n",
       "1            Slight                   1                     1  01/11/2016   \n",
       "2            Slight                   1                     1  01/11/2016   \n",
       "3            Slight                   1                     1  01/11/2016   \n",
       "4            Slight                   2                     1  01/11/2016   \n",
       "5            Slight                   2                     1  01/11/2016   \n",
       "6            Slight                   1                     1  01/11/2016   \n",
       "7            Slight                   2                     1  01/11/2016   \n",
       "8            Slight                   1                     1  01/11/2016   \n",
       "9            Slight                   2                     1  01/11/2016   \n",
       "\n",
       "  day_of_week   time local_authority_district local_authority_ons_district  \\\n",
       "0     Tuesday  02:30                    Brent                        Brent   \n",
       "1     Tuesday  00:37                   Bexley                       Bexley   \n",
       "2     Tuesday  01:25               Hillingdon                   Hillingdon   \n",
       "3     Tuesday  09:15                   Merton                       Merton   \n",
       "4     Tuesday  07:53                 Hounslow                     Hounslow   \n",
       "5     Tuesday  09:29                  Croydon                      Croydon   \n",
       "6     Tuesday  08:53              Westminster                  Westminster   \n",
       "7     Tuesday  10:05                   Barnet                       Barnet   \n",
       "8     Tuesday  09:51   Kensington and Chelsea       Kensington and Chelsea   \n",
       "9     Tuesday  09:45                Greenwich                    Greenwich   \n",
       "\n",
       "  local_authority_highway first_road_class  \\\n",
       "0                   Brent                A   \n",
       "1                  Bexley                A   \n",
       "2              Hillingdon                A   \n",
       "3                  Merton                A   \n",
       "4                Hounslow                A   \n",
       "5                 Croydon                A   \n",
       "6             Westminster                C   \n",
       "7                  Barnet                A   \n",
       "8  Kensington and Chelsea                B   \n",
       "9               Greenwich                A   \n",
       "\n",
       "                                   first_road_number           road_type  \\\n",
       "0                                               4006  Single carriageway   \n",
       "1                                                207  Single carriageway   \n",
       "2                                               4020          Roundabout   \n",
       "3                                                217  Single carriageway   \n",
       "4                                                312    Dual carriageway   \n",
       "5                                                 23  Single carriageway   \n",
       "6  first_road_class is C or Unclassified. These r...  Single carriageway   \n",
       "7                                                504  Single carriageway   \n",
       "8                                                450  Single carriageway   \n",
       "9                                                 20  Single carriageway   \n",
       "\n",
       "   speed_limit                      junction_detail  \\\n",
       "0         30.0  Not at junction or within 20 metres   \n",
       "1         30.0                       Other junction   \n",
       "2         30.0                           Roundabout   \n",
       "3         30.0              T or staggered junction   \n",
       "4         40.0  Not at junction or within 20 metres   \n",
       "5         30.0              T or staggered junction   \n",
       "6         30.0  Not at junction or within 20 metres   \n",
       "7         30.0              T or staggered junction   \n",
       "8         30.0              T or staggered junction   \n",
       "9         30.0              T or staggered junction   \n",
       "\n",
       "               junction_control second_road_class  \\\n",
       "0  Data missing or out of range                -1   \n",
       "1      Give way or uncontrolled      Unclassified   \n",
       "2      Give way or uncontrolled                 A   \n",
       "3           Auto traffic signal                 A   \n",
       "4  Data missing or out of range                -1   \n",
       "5      Give way or uncontrolled      Unclassified   \n",
       "6  Data missing or out of range                -1   \n",
       "7      Give way or uncontrolled      Unclassified   \n",
       "8      Give way or uncontrolled      Unclassified   \n",
       "9      Give way or uncontrolled      Unclassified   \n",
       "\n",
       "                                  second_road_number  \\\n",
       "0                                                NaN   \n",
       "1  first_road_class is C or Unclassified. These r...   \n",
       "2                                             4020.0   \n",
       "3                                              217.0   \n",
       "4                                                NaN   \n",
       "5  first_road_class is C or Unclassified. These r...   \n",
       "6                                                NaN   \n",
       "7  first_road_class is C or Unclassified. These r...   \n",
       "8  first_road_class is C or Unclassified. These r...   \n",
       "9  first_road_class is C or Unclassified. These r...   \n",
       "\n",
       "  pedestrian_crossing_human_control  \\\n",
       "0            None within 50 metres    \n",
       "1            None within 50 metres    \n",
       "2            None within 50 metres    \n",
       "3            None within 50 metres    \n",
       "4            None within 50 metres    \n",
       "5            None within 50 metres    \n",
       "6            None within 50 metres    \n",
       "7            None within 50 metres    \n",
       "8            None within 50 metres    \n",
       "9            None within 50 metres    \n",
       "\n",
       "            pedestrian_crossing_physical_facilities         light_conditions  \\\n",
       "0  No physical crossing facilities within 50 metres  Darkness - lights unlit   \n",
       "1  No physical crossing facilities within 50 metres    Darkness - lights lit   \n",
       "2  No physical crossing facilities within 50 metres    Darkness - lights lit   \n",
       "3  No physical crossing facilities within 50 metres                 Daylight   \n",
       "4  No physical crossing facilities within 50 metres                 Daylight   \n",
       "5                                    Central refuge                 Daylight   \n",
       "6  No physical crossing facilities within 50 metres                 Daylight   \n",
       "7  No physical crossing facilities within 50 metres                 Daylight   \n",
       "8  No physical crossing facilities within 50 metres                 Daylight   \n",
       "9  No physical crossing facilities within 50 metres                 Daylight   \n",
       "\n",
       "   weather_conditions road_surface_conditions special_conditions_at_site  \\\n",
       "0  Fine no high winds                     Dry                       None   \n",
       "1  Fine no high winds                     Dry                       None   \n",
       "2  Fine no high winds                     Dry                       None   \n",
       "3  Fine no high winds                     Dry                       None   \n",
       "4  Fine no high winds                     Dry                       None   \n",
       "5  Fine no high winds                     Dry                       None   \n",
       "6  Fine no high winds                     Dry                       None   \n",
       "7  Fine no high winds                     Dry                       None   \n",
       "8  Fine no high winds                     Dry                       None   \n",
       "9  Fine no high winds                     Dry                       None   \n",
       "\n",
       "  carriageway_hazards urban_or_rural_area  \\\n",
       "0                None               Urban   \n",
       "1                None               Urban   \n",
       "2                None               Urban   \n",
       "3                None               Urban   \n",
       "4                None               Urban   \n",
       "5                None               Urban   \n",
       "6                None               Urban   \n",
       "7                None               Urban   \n",
       "8                None               Urban   \n",
       "9                None               Urban   \n",
       "\n",
       "  did_police_officer_attend_scene_of_accident trunk_road_flag  \\\n",
       "0                                         Yes       Non-trunk   \n",
       "1                                         Yes       Non-trunk   \n",
       "2                                         Yes       Non-trunk   \n",
       "3                                         Yes       Non-trunk   \n",
       "4                                         Yes       Non-trunk   \n",
       "5                                         Yes       Non-trunk   \n",
       "6                                         Yes       Non-trunk   \n",
       "7                                         Yes       Non-trunk   \n",
       "8                                         Yes       Non-trunk   \n",
       "9                                         Yes       Non-trunk   \n",
       "\n",
       "  lsoa_of_accident_location  \n",
       "0                 E01000543  \n",
       "1                 E01000375  \n",
       "2                 E01033725  \n",
       "3                 E01003379  \n",
       "4                 E01002583  \n",
       "5                 E01001180  \n",
       "6                 E01004658  \n",
       "7                 E01000243  \n",
       "8                 E01002875  \n",
       "9                 E01001658  "
      ]
     },
     "execution_count": 89,
     "metadata": {},
     "output_type": "execute_result"
    }
   ],
   "source": [
    "dataset = pd.read_csv('2016_Accidents_UK.csv')\n",
    "dataset.head(10)"
   ]
  },
  {
   "cell_type": "code",
   "execution_count": 90,
   "metadata": {},
   "outputs": [
    {
     "name": "stdout",
     "output_type": "stream",
     "text": [
      "<class 'pandas.core.frame.DataFrame'>\n",
      "RangeIndex: 136621 entries, 0 to 136620\n",
      "Data columns (total 36 columns):\n",
      " #   Column                                       Non-Null Count   Dtype  \n",
      "---  ------                                       --------------   -----  \n",
      " 0   accident_index                               136621 non-null  object \n",
      " 1   accident_year                                136621 non-null  int64  \n",
      " 2   accident_reference                           136621 non-null  object \n",
      " 3   location_easting_osgr                        136614 non-null  float64\n",
      " 4   location_northing_osgr                       136614 non-null  float64\n",
      " 5   longitude                                    136614 non-null  float64\n",
      " 6   latitude                                     136614 non-null  float64\n",
      " 7   police_force                                 136621 non-null  object \n",
      " 8   accident_severity                            136621 non-null  object \n",
      " 9   number_of_vehicles                           136621 non-null  int64  \n",
      " 10  number_of_casualties                         136621 non-null  int64  \n",
      " 11  date                                         136621 non-null  object \n",
      " 12  day_of_week                                  136621 non-null  object \n",
      " 13  time                                         136621 non-null  object \n",
      " 14  local_authority_district                     136621 non-null  object \n",
      " 15  local_authority_ons_district                 136621 non-null  object \n",
      " 16  local_authority_highway                      136621 non-null  object \n",
      " 17  first_road_class                             136621 non-null  object \n",
      " 18  first_road_number                            136621 non-null  object \n",
      " 19  road_type                                    135222 non-null  object \n",
      " 20  speed_limit                                  136584 non-null  float64\n",
      " 21  junction_detail                              136621 non-null  object \n",
      " 22  junction_control                             136621 non-null  object \n",
      " 23  second_road_class                            136621 non-null  object \n",
      " 24  second_road_number                           79614 non-null   object \n",
      " 25  pedestrian_crossing_human_control            136621 non-null  object \n",
      " 26  pedestrian_crossing_physical_facilities      136621 non-null  object \n",
      " 27  light_conditions                             136621 non-null  object \n",
      " 28  weather_conditions                           132808 non-null  object \n",
      " 29  road_surface_conditions                      136621 non-null  object \n",
      " 30  special_conditions_at_site                   136621 non-null  object \n",
      " 31  carriageway_hazards                          136621 non-null  object \n",
      " 32  urban_or_rural_area                          136621 non-null  object \n",
      " 33  did_police_officer_attend_scene_of_accident  136621 non-null  object \n",
      " 34  trunk_road_flag                              136621 non-null  object \n",
      " 35  lsoa_of_accident_location                    136621 non-null  object \n",
      "dtypes: float64(5), int64(3), object(28)\n",
      "memory usage: 37.5+ MB\n"
     ]
    }
   ],
   "source": [
    "dataset.info()"
   ]
  },
  {
   "cell_type": "code",
   "execution_count": 91,
   "metadata": {},
   "outputs": [
    {
     "data": {
      "text/html": [
       "<div>\n",
       "<style scoped>\n",
       "    .dataframe tbody tr th:only-of-type {\n",
       "        vertical-align: middle;\n",
       "    }\n",
       "\n",
       "    .dataframe tbody tr th {\n",
       "        vertical-align: top;\n",
       "    }\n",
       "\n",
       "    .dataframe thead th {\n",
       "        text-align: right;\n",
       "    }\n",
       "</style>\n",
       "<table border=\"1\" class=\"dataframe\">\n",
       "  <thead>\n",
       "    <tr style=\"text-align: right;\">\n",
       "      <th></th>\n",
       "      <th>accident_year</th>\n",
       "      <th>location_easting_osgr</th>\n",
       "      <th>location_northing_osgr</th>\n",
       "      <th>longitude</th>\n",
       "      <th>latitude</th>\n",
       "      <th>number_of_vehicles</th>\n",
       "      <th>number_of_casualties</th>\n",
       "      <th>speed_limit</th>\n",
       "    </tr>\n",
       "  </thead>\n",
       "  <tbody>\n",
       "    <tr>\n",
       "      <th>count</th>\n",
       "      <td>136621.0</td>\n",
       "      <td>136614.000000</td>\n",
       "      <td>1.366140e+05</td>\n",
       "      <td>136614.000000</td>\n",
       "      <td>136614.000000</td>\n",
       "      <td>136621.000000</td>\n",
       "      <td>136621.000000</td>\n",
       "      <td>136584.000000</td>\n",
       "    </tr>\n",
       "    <tr>\n",
       "      <th>mean</th>\n",
       "      <td>2016.0</td>\n",
       "      <td>448699.363169</td>\n",
       "      <td>2.883354e+05</td>\n",
       "      <td>-1.304881</td>\n",
       "      <td>52.482399</td>\n",
       "      <td>1.848179</td>\n",
       "      <td>1.327644</td>\n",
       "      <td>37.943683</td>\n",
       "    </tr>\n",
       "    <tr>\n",
       "      <th>std</th>\n",
       "      <td>0.0</td>\n",
       "      <td>95230.253169</td>\n",
       "      <td>1.570588e+05</td>\n",
       "      <td>1.398947</td>\n",
       "      <td>1.414390</td>\n",
       "      <td>0.710117</td>\n",
       "      <td>0.789296</td>\n",
       "      <td>14.041669</td>\n",
       "    </tr>\n",
       "    <tr>\n",
       "      <th>min</th>\n",
       "      <td>2016.0</td>\n",
       "      <td>76702.000000</td>\n",
       "      <td>1.107500e+04</td>\n",
       "      <td>-7.389809</td>\n",
       "      <td>49.919716</td>\n",
       "      <td>1.000000</td>\n",
       "      <td>1.000000</td>\n",
       "      <td>20.000000</td>\n",
       "    </tr>\n",
       "    <tr>\n",
       "      <th>25%</th>\n",
       "      <td>2016.0</td>\n",
       "      <td>386355.750000</td>\n",
       "      <td>1.764248e+05</td>\n",
       "      <td>-2.204357</td>\n",
       "      <td>51.473779</td>\n",
       "      <td>1.000000</td>\n",
       "      <td>1.000000</td>\n",
       "      <td>30.000000</td>\n",
       "    </tr>\n",
       "    <tr>\n",
       "      <th>50%</th>\n",
       "      <td>2016.0</td>\n",
       "      <td>454126.000000</td>\n",
       "      <td>2.374855e+05</td>\n",
       "      <td>-1.201205</td>\n",
       "      <td>52.025165</td>\n",
       "      <td>2.000000</td>\n",
       "      <td>1.000000</td>\n",
       "      <td>30.000000</td>\n",
       "    </tr>\n",
       "    <tr>\n",
       "      <th>75%</th>\n",
       "      <td>2016.0</td>\n",
       "      <td>527660.000000</td>\n",
       "      <td>3.897438e+05</td>\n",
       "      <td>-0.159708</td>\n",
       "      <td>53.401675</td>\n",
       "      <td>2.000000</td>\n",
       "      <td>1.000000</td>\n",
       "      <td>40.000000</td>\n",
       "    </tr>\n",
       "    <tr>\n",
       "      <th>max</th>\n",
       "      <td>2016.0</td>\n",
       "      <td>655256.000000</td>\n",
       "      <td>1.178623e+06</td>\n",
       "      <td>1.757858</td>\n",
       "      <td>60.490191</td>\n",
       "      <td>16.000000</td>\n",
       "      <td>58.000000</td>\n",
       "      <td>70.000000</td>\n",
       "    </tr>\n",
       "  </tbody>\n",
       "</table>\n",
       "</div>"
      ],
      "text/plain": [
       "       accident_year  location_easting_osgr  location_northing_osgr  \\\n",
       "count       136621.0          136614.000000            1.366140e+05   \n",
       "mean          2016.0          448699.363169            2.883354e+05   \n",
       "std              0.0           95230.253169            1.570588e+05   \n",
       "min           2016.0           76702.000000            1.107500e+04   \n",
       "25%           2016.0          386355.750000            1.764248e+05   \n",
       "50%           2016.0          454126.000000            2.374855e+05   \n",
       "75%           2016.0          527660.000000            3.897438e+05   \n",
       "max           2016.0          655256.000000            1.178623e+06   \n",
       "\n",
       "           longitude       latitude  number_of_vehicles  number_of_casualties  \\\n",
       "count  136614.000000  136614.000000       136621.000000         136621.000000   \n",
       "mean       -1.304881      52.482399            1.848179              1.327644   \n",
       "std         1.398947       1.414390            0.710117              0.789296   \n",
       "min        -7.389809      49.919716            1.000000              1.000000   \n",
       "25%        -2.204357      51.473779            1.000000              1.000000   \n",
       "50%        -1.201205      52.025165            2.000000              1.000000   \n",
       "75%        -0.159708      53.401675            2.000000              1.000000   \n",
       "max         1.757858      60.490191           16.000000             58.000000   \n",
       "\n",
       "         speed_limit  \n",
       "count  136584.000000  \n",
       "mean       37.943683  \n",
       "std        14.041669  \n",
       "min        20.000000  \n",
       "25%        30.000000  \n",
       "50%        30.000000  \n",
       "75%        40.000000  \n",
       "max        70.000000  "
      ]
     },
     "execution_count": 91,
     "metadata": {},
     "output_type": "execute_result"
    }
   ],
   "source": [
    "dataset.describe()"
   ]
  },
  {
   "cell_type": "code",
   "execution_count": 92,
   "metadata": {},
   "outputs": [
    {
     "data": {
      "text/plain": [
       "accident_index                                 136621\n",
       "accident_year                                       1\n",
       "accident_reference                             136621\n",
       "location_easting_osgr                           94588\n",
       "location_northing_osgr                          97148\n",
       "longitude                                      130553\n",
       "latitude                                       129196\n",
       "police_force                                       51\n",
       "accident_severity                                   3\n",
       "number_of_vehicles                                 14\n",
       "number_of_casualties                               22\n",
       "date                                              366\n",
       "day_of_week                                         7\n",
       "time                                             1440\n",
       "local_authority_district                          380\n",
       "local_authority_ons_district                      381\n",
       "local_authority_highway                           208\n",
       "first_road_class                                    6\n",
       "first_road_number                                3323\n",
       "road_type                                           6\n",
       "speed_limit                                         6\n",
       "junction_detail                                    11\n",
       "junction_control                                    7\n",
       "second_road_class                                   7\n",
       "second_road_number                               2606\n",
       "pedestrian_crossing_human_control                   5\n",
       "pedestrian_crossing_physical_facilities             8\n",
       "light_conditions                                    6\n",
       "weather_conditions                                  9\n",
       "road_surface_conditions                             7\n",
       "special_conditions_at_site                          9\n",
       "carriageway_hazards                                 8\n",
       "urban_or_rural_area                                 3\n",
       "did_police_officer_attend_scene_of_accident         3\n",
       "trunk_road_flag                                     3\n",
       "lsoa_of_accident_location                       28647\n",
       "dtype: int64"
      ]
     },
     "execution_count": 92,
     "metadata": {},
     "output_type": "execute_result"
    }
   ],
   "source": [
    "dataset.nunique()"
   ]
  },
  {
   "cell_type": "markdown",
   "metadata": {},
   "source": [
    "# 2- EDA"
   ]
  },
  {
   "cell_type": "code",
   "execution_count": null,
   "metadata": {},
   "outputs": [],
   "source": []
  },
  {
   "cell_type": "code",
   "execution_count": null,
   "metadata": {},
   "outputs": [],
   "source": []
  },
  {
   "cell_type": "code",
   "execution_count": null,
   "metadata": {},
   "outputs": [],
   "source": []
  },
  {
   "cell_type": "code",
   "execution_count": null,
   "metadata": {},
   "outputs": [],
   "source": []
  },
  {
   "cell_type": "code",
   "execution_count": null,
   "metadata": {},
   "outputs": [],
   "source": []
  },
  {
   "cell_type": "markdown",
   "metadata": {},
   "source": [
    "# 3 - Cleaning Data"
   ]
  },
  {
   "cell_type": "markdown",
   "metadata": {},
   "source": [
    "## Observing missing Data"
   ]
  },
  {
   "cell_type": "markdown",
   "metadata": {},
   "source": [
    "Let's look at how many null values we have in the dataset"
   ]
  },
  {
   "cell_type": "code",
   "execution_count": 93,
   "metadata": {},
   "outputs": [
    {
     "data": {
      "text/plain": [
       "(location_easting_osgr         7\n",
       " location_northing_osgr        7\n",
       " longitude                     7\n",
       " latitude                      7\n",
       " road_type                  1399\n",
       " speed_limit                  37\n",
       " second_road_number        57007\n",
       " weather_conditions         3813\n",
       " dtype: int64,\n",
       " location_easting_osgr      0.005124\n",
       " location_northing_osgr     0.005124\n",
       " longitude                  0.005124\n",
       " latitude                   0.005124\n",
       " road_type                  1.024001\n",
       " speed_limit                0.027082\n",
       " second_road_number        41.726382\n",
       " weather_conditions         2.790933\n",
       " dtype: float64)"
      ]
     },
     "execution_count": 93,
     "metadata": {},
     "output_type": "execute_result"
    }
   ],
   "source": [
    "def get_nan_count(dataset: pd.DataFrame, percentage=False, nan_word=None):\n",
    "    if(nan_word == None):\n",
    "        null_cnt = dataset.isnull().sum()\n",
    "    else:\n",
    "        null_cnt = (dataset == nan_word).sum()\n",
    "    null_cnt = null_cnt[null_cnt > 0]\n",
    "    if(percentage):\n",
    "        null_cnt = null_cnt * 100 / len(dataset)\n",
    "    return null_cnt\n",
    "\n",
    "get_nan_count(dataset), get_nan_count(dataset, percentage=True)"
   ]
  },
  {
   "cell_type": "markdown",
   "metadata": {},
   "source": [
    "### Missing location values"
   ]
  },
  {
   "cell_type": "markdown",
   "metadata": {},
   "source": [
    "For location columns [location_easting_osgr, location_northing_osgr, longitude, latitude] we have 7 missing records, let's look at them"
   ]
  },
  {
   "cell_type": "markdown",
   "metadata": {},
   "source": [
    "We set an option to see all columns values of the data"
   ]
  },
  {
   "cell_type": "code",
   "execution_count": 94,
   "metadata": {},
   "outputs": [],
   "source": [
    "pd.set_option('display.max_columns', None)"
   ]
  },
  {
   "cell_type": "code",
   "execution_count": 95,
   "metadata": {},
   "outputs": [
    {
     "data": {
      "text/html": [
       "<div>\n",
       "<style scoped>\n",
       "    .dataframe tbody tr th:only-of-type {\n",
       "        vertical-align: middle;\n",
       "    }\n",
       "\n",
       "    .dataframe tbody tr th {\n",
       "        vertical-align: top;\n",
       "    }\n",
       "\n",
       "    .dataframe thead th {\n",
       "        text-align: right;\n",
       "    }\n",
       "</style>\n",
       "<table border=\"1\" class=\"dataframe\">\n",
       "  <thead>\n",
       "    <tr style=\"text-align: right;\">\n",
       "      <th></th>\n",
       "      <th>accident_index</th>\n",
       "      <th>accident_year</th>\n",
       "      <th>accident_reference</th>\n",
       "      <th>location_easting_osgr</th>\n",
       "      <th>location_northing_osgr</th>\n",
       "      <th>longitude</th>\n",
       "      <th>latitude</th>\n",
       "      <th>police_force</th>\n",
       "      <th>accident_severity</th>\n",
       "      <th>number_of_vehicles</th>\n",
       "      <th>number_of_casualties</th>\n",
       "      <th>date</th>\n",
       "      <th>day_of_week</th>\n",
       "      <th>time</th>\n",
       "      <th>local_authority_district</th>\n",
       "      <th>local_authority_ons_district</th>\n",
       "      <th>local_authority_highway</th>\n",
       "      <th>first_road_class</th>\n",
       "      <th>first_road_number</th>\n",
       "      <th>road_type</th>\n",
       "      <th>speed_limit</th>\n",
       "      <th>junction_detail</th>\n",
       "      <th>junction_control</th>\n",
       "      <th>second_road_class</th>\n",
       "      <th>second_road_number</th>\n",
       "      <th>pedestrian_crossing_human_control</th>\n",
       "      <th>pedestrian_crossing_physical_facilities</th>\n",
       "      <th>light_conditions</th>\n",
       "      <th>weather_conditions</th>\n",
       "      <th>road_surface_conditions</th>\n",
       "      <th>special_conditions_at_site</th>\n",
       "      <th>carriageway_hazards</th>\n",
       "      <th>urban_or_rural_area</th>\n",
       "      <th>did_police_officer_attend_scene_of_accident</th>\n",
       "      <th>trunk_road_flag</th>\n",
       "      <th>lsoa_of_accident_location</th>\n",
       "    </tr>\n",
       "  </thead>\n",
       "  <tbody>\n",
       "    <tr>\n",
       "      <th>62592</th>\n",
       "      <td>2016210125234</td>\n",
       "      <td>2016</td>\n",
       "      <td>210125234</td>\n",
       "      <td>NaN</td>\n",
       "      <td>NaN</td>\n",
       "      <td>NaN</td>\n",
       "      <td>NaN</td>\n",
       "      <td>Staffordshire</td>\n",
       "      <td>Serious</td>\n",
       "      <td>2</td>\n",
       "      <td>1</td>\n",
       "      <td>07/11/2016</td>\n",
       "      <td>Monday</td>\n",
       "      <td>06:00</td>\n",
       "      <td>Stafford</td>\n",
       "      <td>Stafford</td>\n",
       "      <td>Staffordshire</td>\n",
       "      <td>Unclassified</td>\n",
       "      <td>first_road_class is C or Unclassified. These r...</td>\n",
       "      <td>Single carriageway</td>\n",
       "      <td>30.0</td>\n",
       "      <td>Not at junction or within 20 metres</td>\n",
       "      <td>Data missing or out of range</td>\n",
       "      <td>-1</td>\n",
       "      <td>NaN</td>\n",
       "      <td>None within 50 metres</td>\n",
       "      <td>No physical crossing facilities within 50 metres</td>\n",
       "      <td>Darkness - lights lit</td>\n",
       "      <td>Fine no high winds</td>\n",
       "      <td>Wet or damp</td>\n",
       "      <td>None</td>\n",
       "      <td>None</td>\n",
       "      <td>Unallocated</td>\n",
       "      <td>Yes</td>\n",
       "      <td>Non-trunk</td>\n",
       "      <td>-1</td>\n",
       "    </tr>\n",
       "    <tr>\n",
       "      <th>62618</th>\n",
       "      <td>2016210126357</td>\n",
       "      <td>2016</td>\n",
       "      <td>210126357</td>\n",
       "      <td>NaN</td>\n",
       "      <td>NaN</td>\n",
       "      <td>NaN</td>\n",
       "      <td>NaN</td>\n",
       "      <td>Staffordshire</td>\n",
       "      <td>Slight</td>\n",
       "      <td>1</td>\n",
       "      <td>1</td>\n",
       "      <td>10/11/2016</td>\n",
       "      <td>Thursday</td>\n",
       "      <td>16:40</td>\n",
       "      <td>Stoke-on-Trent</td>\n",
       "      <td>Stoke-on-Trent</td>\n",
       "      <td>Stoke-on-Trent</td>\n",
       "      <td>A</td>\n",
       "      <td>5272</td>\n",
       "      <td>Single carriageway</td>\n",
       "      <td>30.0</td>\n",
       "      <td>Not at junction or within 20 metres</td>\n",
       "      <td>Data missing or out of range</td>\n",
       "      <td>-1</td>\n",
       "      <td>NaN</td>\n",
       "      <td>None within 50 metres</td>\n",
       "      <td>No physical crossing facilities within 50 metres</td>\n",
       "      <td>Daylight</td>\n",
       "      <td>Raining no high winds</td>\n",
       "      <td>Wet or damp</td>\n",
       "      <td>None</td>\n",
       "      <td>None</td>\n",
       "      <td>Unallocated</td>\n",
       "      <td>Yes</td>\n",
       "      <td>Non-trunk</td>\n",
       "      <td>-1</td>\n",
       "    </tr>\n",
       "    <tr>\n",
       "      <th>83330</th>\n",
       "      <td>2016400135181</td>\n",
       "      <td>2016</td>\n",
       "      <td>400135181</td>\n",
       "      <td>NaN</td>\n",
       "      <td>NaN</td>\n",
       "      <td>NaN</td>\n",
       "      <td>NaN</td>\n",
       "      <td>Bedfordshire</td>\n",
       "      <td>Slight</td>\n",
       "      <td>3</td>\n",
       "      <td>3</td>\n",
       "      <td>28/11/2016</td>\n",
       "      <td>Monday</td>\n",
       "      <td>07:55</td>\n",
       "      <td>Bedford</td>\n",
       "      <td>Bedford</td>\n",
       "      <td>Bedford</td>\n",
       "      <td>B</td>\n",
       "      <td>645</td>\n",
       "      <td>Single carriageway</td>\n",
       "      <td>60.0</td>\n",
       "      <td>T or staggered junction</td>\n",
       "      <td>Give way or uncontrolled</td>\n",
       "      <td>Unclassified</td>\n",
       "      <td>first_road_class is C or Unclassified. These r...</td>\n",
       "      <td>None within 50 metres</td>\n",
       "      <td>No physical crossing facilities within 50 metres</td>\n",
       "      <td>Daylight</td>\n",
       "      <td>Fine no high winds</td>\n",
       "      <td>Dry</td>\n",
       "      <td>None</td>\n",
       "      <td>None</td>\n",
       "      <td>Unallocated</td>\n",
       "      <td>Yes</td>\n",
       "      <td>Non-trunk</td>\n",
       "      <td>-1</td>\n",
       "    </tr>\n",
       "    <tr>\n",
       "      <th>129439</th>\n",
       "      <td>2016930000146</td>\n",
       "      <td>2016</td>\n",
       "      <td>930000146</td>\n",
       "      <td>NaN</td>\n",
       "      <td>NaN</td>\n",
       "      <td>NaN</td>\n",
       "      <td>NaN</td>\n",
       "      <td>Tayside</td>\n",
       "      <td>Slight</td>\n",
       "      <td>1</td>\n",
       "      <td>1</td>\n",
       "      <td>24/04/2016</td>\n",
       "      <td>Sunday</td>\n",
       "      <td>15:43</td>\n",
       "      <td>Perth and Kinross</td>\n",
       "      <td>Perth and Kinross</td>\n",
       "      <td>Perth and Kinross</td>\n",
       "      <td>A</td>\n",
       "      <td>9</td>\n",
       "      <td>Single carriageway</td>\n",
       "      <td>60.0</td>\n",
       "      <td>Not at junction or within 20 metres</td>\n",
       "      <td>Data missing or out of range</td>\n",
       "      <td>-1</td>\n",
       "      <td>NaN</td>\n",
       "      <td>None within 50 metres</td>\n",
       "      <td>No physical crossing facilities within 50 metres</td>\n",
       "      <td>Daylight</td>\n",
       "      <td>Fine no high winds</td>\n",
       "      <td>Dry</td>\n",
       "      <td>None</td>\n",
       "      <td>None</td>\n",
       "      <td>Unallocated</td>\n",
       "      <td>Yes</td>\n",
       "      <td>Data missing or out of range</td>\n",
       "      <td>-1</td>\n",
       "    </tr>\n",
       "    <tr>\n",
       "      <th>132298</th>\n",
       "      <td>2016961600599</td>\n",
       "      <td>2016</td>\n",
       "      <td>961600599</td>\n",
       "      <td>NaN</td>\n",
       "      <td>NaN</td>\n",
       "      <td>NaN</td>\n",
       "      <td>NaN</td>\n",
       "      <td>Central</td>\n",
       "      <td>Slight</td>\n",
       "      <td>2</td>\n",
       "      <td>3</td>\n",
       "      <td>15/04/2016</td>\n",
       "      <td>Friday</td>\n",
       "      <td>13:30</td>\n",
       "      <td>Stirling</td>\n",
       "      <td>Stirling</td>\n",
       "      <td>Stirling</td>\n",
       "      <td>A</td>\n",
       "      <td>872</td>\n",
       "      <td>Data missing or out of range</td>\n",
       "      <td>60.0</td>\n",
       "      <td>Not at junction or within 20 metres</td>\n",
       "      <td>Data missing or out of range</td>\n",
       "      <td>-1</td>\n",
       "      <td>NaN</td>\n",
       "      <td>Data missing or out of range</td>\n",
       "      <td>Data missing or out of range</td>\n",
       "      <td>Data missing or out of range</td>\n",
       "      <td>Data missing or out of range</td>\n",
       "      <td>Data missing or out of range</td>\n",
       "      <td>None</td>\n",
       "      <td>Data missing or out of range</td>\n",
       "      <td>Unallocated</td>\n",
       "      <td>No</td>\n",
       "      <td>Data missing or out of range</td>\n",
       "      <td>-1</td>\n",
       "    </tr>\n",
       "    <tr>\n",
       "      <th>132431</th>\n",
       "      <td>2016961601188</td>\n",
       "      <td>2016</td>\n",
       "      <td>961601188</td>\n",
       "      <td>NaN</td>\n",
       "      <td>NaN</td>\n",
       "      <td>NaN</td>\n",
       "      <td>NaN</td>\n",
       "      <td>Central</td>\n",
       "      <td>Serious</td>\n",
       "      <td>2</td>\n",
       "      <td>1</td>\n",
       "      <td>03/08/2016</td>\n",
       "      <td>Wednesday</td>\n",
       "      <td>08:54</td>\n",
       "      <td>Stirling</td>\n",
       "      <td>Stirling</td>\n",
       "      <td>Stirling</td>\n",
       "      <td>A</td>\n",
       "      <td>81</td>\n",
       "      <td>Single carriageway</td>\n",
       "      <td>60.0</td>\n",
       "      <td>Not at junction or within 20 metres</td>\n",
       "      <td>Data missing or out of range</td>\n",
       "      <td>-1</td>\n",
       "      <td>NaN</td>\n",
       "      <td>None within 50 metres</td>\n",
       "      <td>No physical crossing facilities within 50 metres</td>\n",
       "      <td>Daylight</td>\n",
       "      <td>Raining no high winds</td>\n",
       "      <td>Wet or damp</td>\n",
       "      <td>None</td>\n",
       "      <td>None</td>\n",
       "      <td>Unallocated</td>\n",
       "      <td>Yes</td>\n",
       "      <td>Data missing or out of range</td>\n",
       "      <td>-1</td>\n",
       "    </tr>\n",
       "    <tr>\n",
       "      <th>132527</th>\n",
       "      <td>2016961601508</td>\n",
       "      <td>2016</td>\n",
       "      <td>961601508</td>\n",
       "      <td>NaN</td>\n",
       "      <td>NaN</td>\n",
       "      <td>NaN</td>\n",
       "      <td>NaN</td>\n",
       "      <td>Central</td>\n",
       "      <td>Slight</td>\n",
       "      <td>1</td>\n",
       "      <td>1</td>\n",
       "      <td>26/09/2016</td>\n",
       "      <td>Monday</td>\n",
       "      <td>08:40</td>\n",
       "      <td>Stirling</td>\n",
       "      <td>Stirling</td>\n",
       "      <td>Stirling</td>\n",
       "      <td>A</td>\n",
       "      <td>820</td>\n",
       "      <td>Single carriageway</td>\n",
       "      <td>30.0</td>\n",
       "      <td>Not at junction or within 20 metres</td>\n",
       "      <td>Data missing or out of range</td>\n",
       "      <td>-1</td>\n",
       "      <td>NaN</td>\n",
       "      <td>None within 50 metres</td>\n",
       "      <td>No physical crossing facilities within 50 metres</td>\n",
       "      <td>Daylight</td>\n",
       "      <td>Fine no high winds</td>\n",
       "      <td>Dry</td>\n",
       "      <td>None</td>\n",
       "      <td>None</td>\n",
       "      <td>Unallocated</td>\n",
       "      <td>No</td>\n",
       "      <td>Data missing or out of range</td>\n",
       "      <td>-1</td>\n",
       "    </tr>\n",
       "  </tbody>\n",
       "</table>\n",
       "</div>"
      ],
      "text/plain": [
       "       accident_index  accident_year accident_reference  \\\n",
       "62592   2016210125234           2016          210125234   \n",
       "62618   2016210126357           2016          210126357   \n",
       "83330   2016400135181           2016          400135181   \n",
       "129439  2016930000146           2016          930000146   \n",
       "132298  2016961600599           2016          961600599   \n",
       "132431  2016961601188           2016          961601188   \n",
       "132527  2016961601508           2016          961601508   \n",
       "\n",
       "        location_easting_osgr  location_northing_osgr  longitude  latitude  \\\n",
       "62592                     NaN                     NaN        NaN       NaN   \n",
       "62618                     NaN                     NaN        NaN       NaN   \n",
       "83330                     NaN                     NaN        NaN       NaN   \n",
       "129439                    NaN                     NaN        NaN       NaN   \n",
       "132298                    NaN                     NaN        NaN       NaN   \n",
       "132431                    NaN                     NaN        NaN       NaN   \n",
       "132527                    NaN                     NaN        NaN       NaN   \n",
       "\n",
       "         police_force accident_severity  number_of_vehicles  \\\n",
       "62592   Staffordshire           Serious                   2   \n",
       "62618   Staffordshire            Slight                   1   \n",
       "83330    Bedfordshire            Slight                   3   \n",
       "129439        Tayside            Slight                   1   \n",
       "132298        Central            Slight                   2   \n",
       "132431        Central           Serious                   2   \n",
       "132527        Central            Slight                   1   \n",
       "\n",
       "        number_of_casualties        date day_of_week   time  \\\n",
       "62592                      1  07/11/2016      Monday  06:00   \n",
       "62618                      1  10/11/2016    Thursday  16:40   \n",
       "83330                      3  28/11/2016      Monday  07:55   \n",
       "129439                     1  24/04/2016      Sunday  15:43   \n",
       "132298                     3  15/04/2016      Friday  13:30   \n",
       "132431                     1  03/08/2016   Wednesday  08:54   \n",
       "132527                     1  26/09/2016      Monday  08:40   \n",
       "\n",
       "       local_authority_district local_authority_ons_district  \\\n",
       "62592                  Stafford                     Stafford   \n",
       "62618            Stoke-on-Trent               Stoke-on-Trent   \n",
       "83330                   Bedford                      Bedford   \n",
       "129439        Perth and Kinross            Perth and Kinross   \n",
       "132298                 Stirling                     Stirling   \n",
       "132431                 Stirling                     Stirling   \n",
       "132527                 Stirling                     Stirling   \n",
       "\n",
       "       local_authority_highway first_road_class  \\\n",
       "62592            Staffordshire     Unclassified   \n",
       "62618           Stoke-on-Trent                A   \n",
       "83330                  Bedford                B   \n",
       "129439       Perth and Kinross                A   \n",
       "132298                Stirling                A   \n",
       "132431                Stirling                A   \n",
       "132527                Stirling                A   \n",
       "\n",
       "                                        first_road_number  \\\n",
       "62592   first_road_class is C or Unclassified. These r...   \n",
       "62618                                                5272   \n",
       "83330                                                 645   \n",
       "129439                                                  9   \n",
       "132298                                                872   \n",
       "132431                                                 81   \n",
       "132527                                                820   \n",
       "\n",
       "                           road_type  speed_limit  \\\n",
       "62592             Single carriageway         30.0   \n",
       "62618             Single carriageway         30.0   \n",
       "83330             Single carriageway         60.0   \n",
       "129439            Single carriageway         60.0   \n",
       "132298  Data missing or out of range         60.0   \n",
       "132431            Single carriageway         60.0   \n",
       "132527            Single carriageway         30.0   \n",
       "\n",
       "                            junction_detail              junction_control  \\\n",
       "62592   Not at junction or within 20 metres  Data missing or out of range   \n",
       "62618   Not at junction or within 20 metres  Data missing or out of range   \n",
       "83330               T or staggered junction      Give way or uncontrolled   \n",
       "129439  Not at junction or within 20 metres  Data missing or out of range   \n",
       "132298  Not at junction or within 20 metres  Data missing or out of range   \n",
       "132431  Not at junction or within 20 metres  Data missing or out of range   \n",
       "132527  Not at junction or within 20 metres  Data missing or out of range   \n",
       "\n",
       "       second_road_class                                 second_road_number  \\\n",
       "62592                 -1                                                NaN   \n",
       "62618                 -1                                                NaN   \n",
       "83330       Unclassified  first_road_class is C or Unclassified. These r...   \n",
       "129439                -1                                                NaN   \n",
       "132298                -1                                                NaN   \n",
       "132431                -1                                                NaN   \n",
       "132527                -1                                                NaN   \n",
       "\n",
       "       pedestrian_crossing_human_control  \\\n",
       "62592             None within 50 metres    \n",
       "62618             None within 50 metres    \n",
       "83330             None within 50 metres    \n",
       "129439            None within 50 metres    \n",
       "132298      Data missing or out of range   \n",
       "132431            None within 50 metres    \n",
       "132527            None within 50 metres    \n",
       "\n",
       "                 pedestrian_crossing_physical_facilities  \\\n",
       "62592   No physical crossing facilities within 50 metres   \n",
       "62618   No physical crossing facilities within 50 metres   \n",
       "83330   No physical crossing facilities within 50 metres   \n",
       "129439  No physical crossing facilities within 50 metres   \n",
       "132298                      Data missing or out of range   \n",
       "132431  No physical crossing facilities within 50 metres   \n",
       "132527  No physical crossing facilities within 50 metres   \n",
       "\n",
       "                    light_conditions            weather_conditions  \\\n",
       "62592          Darkness - lights lit            Fine no high winds   \n",
       "62618                       Daylight         Raining no high winds   \n",
       "83330                       Daylight            Fine no high winds   \n",
       "129439                      Daylight            Fine no high winds   \n",
       "132298  Data missing or out of range  Data missing or out of range   \n",
       "132431                      Daylight         Raining no high winds   \n",
       "132527                      Daylight            Fine no high winds   \n",
       "\n",
       "             road_surface_conditions special_conditions_at_site  \\\n",
       "62592                    Wet or damp                       None   \n",
       "62618                    Wet or damp                       None   \n",
       "83330                            Dry                       None   \n",
       "129439                           Dry                       None   \n",
       "132298  Data missing or out of range                       None   \n",
       "132431                   Wet or damp                       None   \n",
       "132527                           Dry                       None   \n",
       "\n",
       "                 carriageway_hazards urban_or_rural_area  \\\n",
       "62592                           None         Unallocated   \n",
       "62618                           None         Unallocated   \n",
       "83330                           None         Unallocated   \n",
       "129439                          None         Unallocated   \n",
       "132298  Data missing or out of range         Unallocated   \n",
       "132431                          None         Unallocated   \n",
       "132527                          None         Unallocated   \n",
       "\n",
       "       did_police_officer_attend_scene_of_accident  \\\n",
       "62592                                          Yes   \n",
       "62618                                          Yes   \n",
       "83330                                          Yes   \n",
       "129439                                         Yes   \n",
       "132298                                          No   \n",
       "132431                                         Yes   \n",
       "132527                                          No   \n",
       "\n",
       "                     trunk_road_flag lsoa_of_accident_location  \n",
       "62592                      Non-trunk                        -1  \n",
       "62618                      Non-trunk                        -1  \n",
       "83330                      Non-trunk                        -1  \n",
       "129439  Data missing or out of range                        -1  \n",
       "132298  Data missing or out of range                        -1  \n",
       "132431  Data missing or out of range                        -1  \n",
       "132527  Data missing or out of range                        -1  "
      ]
     },
     "execution_count": 95,
     "metadata": {},
     "output_type": "execute_result"
    }
   ],
   "source": [
    "dataset[dataset['longitude'].isna()]"
   ]
  },
  {
   "cell_type": "markdown",
   "metadata": {},
   "source": [
    "Looking at these data, there's no common pattern or explanation between theses records. The missing data for location is MCAR."
   ]
  },
  {
   "cell_type": "markdown",
   "metadata": {},
   "source": [
    "### Missing road type values"
   ]
  },
  {
   "cell_type": "markdown",
   "metadata": {},
   "source": [
    "Let's look at the road type different values and their count"
   ]
  },
  {
   "cell_type": "code",
   "execution_count": 96,
   "metadata": {},
   "outputs": [
    {
     "name": "stdout",
     "output_type": "stream",
     "text": [
      "Values count of road type\n",
      "Single carriageway              101687\n",
      "Dual carriageway                 20117\n",
      "Roundabout                        8865\n",
      "One way street                    3117\n",
      "Slip road                         1435\n",
      "NaN                               1399\n",
      "Data missing or out of range         1\n",
      "Name: road_type, dtype: int64\n"
     ]
    },
    {
     "data": {
      "image/png": "[encoded data removed]",
      "text/plain": [
       "<Figure size 640x480 with 1 Axes>"
      ]
     },
     "metadata": {},
     "output_type": "display_data"
    }
   ],
   "source": [
    "def visualize_cols_values_cnt(dataset, col_name, percentage=False, title=None):\n",
    "    (dataset[col_name].value_counts(dropna=False) * ((100/len(dataset)) if percentage else 1) ).plot(kind='bar', xlabel=col_name, ylabel='count', title=title)\n",
    "    \n",
    "\n",
    "print('Values count of road type')\n",
    "print(dataset['road_type'].value_counts(dropna=False))\n",
    "visualize_cols_values_cnt(dataset, 'road_type')\n"
   ]
  },
  {
   "cell_type": "markdown",
   "metadata": {},
   "source": [
    "Let's look at the road type missing values and there relation to the road class"
   ]
  },
  {
   "cell_type": "code",
   "execution_count": 97,
   "metadata": {},
   "outputs": [
    {
     "data": {
      "image/png": "[encoded data removed]",
      "text/plain": [
       "<Figure size 640x480 with 1 Axes>"
      ]
     },
     "metadata": {},
     "output_type": "display_data"
    }
   ],
   "source": [
    "road_null_ds = dataset[dataset['road_type'].isna()]\n",
    "visualize_cols_values_cnt(dataset, 'first_road_class', percentage=True, title=\"Whole dataset\")"
   ]
  },
  {
   "cell_type": "code",
   "execution_count": 98,
   "metadata": {},
   "outputs": [
    {
     "data": {
      "image/png": "[encoded data removed]",
      "text/plain": [
       "<Figure size 640x480 with 1 Axes>"
      ]
     },
     "metadata": {},
     "output_type": "display_data"
    }
   ],
   "source": [
    "visualize_cols_values_cnt(road_null_ds, 'first_road_class', percentage=True, title=\"Null road type\")"
   ]
  },
  {
   "cell_type": "markdown",
   "metadata": {},
   "source": [
    "We can see that the percentage of unclassified roads in the missing data is higher than in the total data. This suggests that there might be a correlation between the road class being unclassified and its type to be missing. \n",
    "It's onlyy 1% of the data which we should not worry about."
   ]
  },
  {
   "cell_type": "markdown",
   "metadata": {},
   "source": [
    "### Missing speed values"
   ]
  },
  {
   "cell_type": "code",
   "execution_count": 99,
   "metadata": {},
   "outputs": [
    {
     "data": {
      "image/png": "[encoded data removed]",
      "text/plain": [
       "<Figure size 640x480 with 1 Axes>"
      ]
     },
     "metadata": {},
     "output_type": "display_data"
    }
   ],
   "source": [
    "visualize_cols_values_cnt(dataset, 'speed_limit')"
   ]
  },
  {
   "cell_type": "code",
   "execution_count": 100,
   "metadata": {},
   "outputs": [
    {
     "data": {
      "image/png": "[encoded data removed]",
      "text/plain": [
       "<Figure size 640x480 with 1 Axes>"
      ]
     },
     "metadata": {},
     "output_type": "display_data"
    }
   ],
   "source": [
    "visualize_cols_values_cnt(dataset[dataset.speed_limit.isna()], 'first_road_class', title=\"Null speed limit\")"
   ]
  },
  {
   "cell_type": "markdown",
   "metadata": {},
   "source": [
    "There are only 37 missing values for speed limit and most of these roads are unclassified so it might the reason that the speed limit is missing."
   ]
  },
  {
   "cell_type": "markdown",
   "metadata": {},
   "source": [
    "### Missing second road values"
   ]
  },
  {
   "cell_type": "markdown",
   "metadata": {},
   "source": [
    "42% of the records have this feature missing which is a very big number. It can be explained by the fact that most of the accidents happen at only one road and not a crosswalk."
   ]
  },
  {
   "cell_type": "markdown",
   "metadata": {},
   "source": [
    "Let's look at the junction type values distribution to understand why all these values are missing."
   ]
  },
  {
   "cell_type": "code",
   "execution_count": 101,
   "metadata": {},
   "outputs": [
    {
     "data": {
      "image/png": "[encoded data removed]",
      "text/plain": [
       "<Figure size 640x480 with 1 Axes>"
      ]
     },
     "metadata": {},
     "output_type": "display_data"
    }
   ],
   "source": [
    "visualize_cols_values_cnt(dataset, 'junction_detail', percentage=True, title=\"Whole dataset\")"
   ]
  },
  {
   "cell_type": "markdown",
   "metadata": {},
   "source": [
    "The \"Not a junction\" value occurs around 42% of the dataset which is the same percentage as missing second road."
   ]
  },
  {
   "cell_type": "code",
   "execution_count": 102,
   "metadata": {},
   "outputs": [
    {
     "data": {
      "image/png": "[encoded data removed]",
      "text/plain": [
       "<Figure size 640x480 with 1 Axes>"
      ]
     },
     "metadata": {},
     "output_type": "display_data"
    }
   ],
   "source": [
    "\n",
    "ds_null_2nd_road = dataset[dataset.second_road_number.isna()]\n",
    "visualize_cols_values_cnt( ds_null_2nd_road, 'junction_detail', percentage=True,  title=\"Null second road\")\n"
   ]
  },
  {
   "cell_type": "markdown",
   "metadata": {},
   "source": [
    "From the above 2 charts we can see that almost 100% of the null values are coming from accidents happened not at a junction. This means that there's no second road at the first place. This is Missing At Random (MAR) type.   "
   ]
  },
  {
   "cell_type": "markdown",
   "metadata": {},
   "source": [
    "### Missing weather condition values"
   ]
  },
  {
   "cell_type": "code",
   "execution_count": 103,
   "metadata": {},
   "outputs": [
    {
     "data": {
      "image/png": "[encoded data removed]",
      "text/plain": [
       "<Figure size 640x480 with 1 Axes>"
      ]
     },
     "metadata": {},
     "output_type": "display_data"
    }
   ],
   "source": [
    "visualize_cols_values_cnt(dataset, 'weather_conditions', percentage=True)"
   ]
  },
  {
   "cell_type": "markdown",
   "metadata": {},
   "source": [
    "Because this is weather data. It might be justified that the weather was not reported during some accidents. It can be treated under the category of \"Data missing or out of range\"."
   ]
  },
  {
   "cell_type": "markdown",
   "metadata": {},
   "source": [
    "### Data missing or out of range instead of NaN"
   ]
  },
  {
   "cell_type": "markdown",
   "metadata": {},
   "source": [
    "Some of the values are set to the value 'Data missing or out of range' instead of NaN"
   ]
  },
  {
   "cell_type": "code",
   "execution_count": 104,
   "metadata": {},
   "outputs": [
    {
     "data": {
      "text/plain": [
       "road_type                                   0.000732\n",
       "junction_detail                             0.000732\n",
       "junction_control                           41.443848\n",
       "pedestrian_crossing_human_control           0.131019\n",
       "pedestrian_crossing_physical_facilities     0.122236\n",
       "light_conditions                            0.009515\n",
       "weather_conditions                          0.009515\n",
       "road_surface_conditions                     0.558479\n",
       "carriageway_hazards                         0.075391\n",
       "trunk_road_flag                             9.711538\n",
       "dtype: float64"
      ]
     },
     "execution_count": 104,
     "metadata": {},
     "output_type": "execute_result"
    }
   ],
   "source": [
    "nan_word = 'Data missing or out of range'\n",
    "get_nan_count(dataset, percentage=True, nan_word=nan_word)"
   ]
  },
  {
   "cell_type": "markdown",
   "metadata": {},
   "source": [
    "Let's look at the junction control because it has 41% missing values. It looks like it has the same issue as the second road missing values when there's no junction."
   ]
  },
  {
   "cell_type": "code",
   "execution_count": 105,
   "metadata": {},
   "outputs": [
    {
     "data": {
      "image/png": "[encoded data removed]",
      "text/plain": [
       "<Figure size 640x480 with 1 Axes>"
      ]
     },
     "metadata": {},
     "output_type": "display_data"
    }
   ],
   "source": [
    "ds_null_junction_cont = dataset[dataset.junction_control == nan_word]\n",
    "visualize_cols_values_cnt( ds_null_junction_cont, 'junction_detail', percentage=True,  title=\"Null junction control\")"
   ]
  },
  {
   "cell_type": "markdown",
   "metadata": {},
   "source": [
    "This confirms our hypothesis since most of the missing values happens when there are no junctions which means there is no junction control. This is MAR."
   ]
  },
  {
   "cell_type": "markdown",
   "metadata": {},
   "source": [
    "Let's look at trunk_road_flag which has %10 missing"
   ]
  },
  {
   "cell_type": "code",
   "execution_count": 106,
   "metadata": {},
   "outputs": [
    {
     "data": {
      "image/png": "[encoded data removed]",
      "text/plain": [
       "<Figure size 640x480 with 1 Axes>"
      ]
     },
     "metadata": {},
     "output_type": "display_data"
    }
   ],
   "source": [
    "visualize_cols_values_cnt(dataset, 'trunk_road_flag', percentage=True)"
   ]
  },
  {
   "cell_type": "markdown",
   "metadata": {},
   "source": [
    "I think it might be really missing for no reason (MCAR)."
   ]
  },
  {
   "cell_type": "markdown",
   "metadata": {},
   "source": [
    "### None instead of NaN"
   ]
  },
  {
   "cell_type": "markdown",
   "metadata": {},
   "source": [
    "Some of the values are set to the value 'None' instead of NaN"
   ]
  },
  {
   "cell_type": "code",
   "execution_count": 107,
   "metadata": {},
   "outputs": [
    {
     "data": {
      "text/plain": [
       "special_conditions_at_site    97.546497\n",
       "carriageway_hazards           98.021534\n",
       "dtype: float64"
      ]
     },
     "execution_count": 107,
     "metadata": {},
     "output_type": "execute_result"
    }
   ],
   "source": [
    "nan_word = 'None'\n",
    "get_nan_count(dataset, percentage=True, nan_word=nan_word)"
   ]
  },
  {
   "cell_type": "markdown",
   "metadata": {},
   "source": [
    "Let's look at the the values counts in these columns"
   ]
  },
  {
   "cell_type": "code",
   "execution_count": 108,
   "metadata": {},
   "outputs": [
    {
     "data": {
      "image/png": "[encoded data removed]",
      "text/plain": [
       "<Figure size 640x480 with 1 Axes>"
      ]
     },
     "metadata": {},
     "output_type": "display_data"
    }
   ],
   "source": [
    "visualize_cols_values_cnt( dataset, 'special_conditions_at_site', percentage=True)"
   ]
  },
  {
   "cell_type": "markdown",
   "metadata": {},
   "source": [
    "The values here mean that none is means that there were no special conditions at the site."
   ]
  },
  {
   "cell_type": "code",
   "execution_count": 109,
   "metadata": {},
   "outputs": [
    {
     "data": {
      "image/png": "[encoded data removed]",
      "text/plain": [
       "<Figure size 640x480 with 1 Axes>"
      ]
     },
     "metadata": {},
     "output_type": "display_data"
    }
   ],
   "source": [
    "ds_null_junction_cont = dataset[dataset.junction_control == nan_word]\n",
    "visualize_cols_values_cnt( dataset, 'carriageway_hazards', percentage=True)"
   ]
  },
  {
   "cell_type": "markdown",
   "metadata": {},
   "source": [
    "The values here mean that none is means that there were no hazards on the road."
   ]
  },
  {
   "cell_type": "markdown",
   "metadata": {},
   "source": [
    "This concludes that None is not a missing value keyword"
   ]
  },
  {
   "cell_type": "markdown",
   "metadata": {},
   "source": [
    "## Handling Missing data"
   ]
  },
  {
   "cell_type": "markdown",
   "metadata": {},
   "source": [
    "Treat the other missing keywords as NaN"
   ]
  },
  {
   "cell_type": "code",
   "execution_count": 144,
   "metadata": {},
   "outputs": [
    {
     "data": {
      "text/plain": [
       "location_easting_osgr                       0.005124\n",
       "location_northing_osgr                      0.005124\n",
       "longitude                                   0.005124\n",
       "latitude                                    0.005124\n",
       "road_type                                   1.024733\n",
       "speed_limit                                 0.027082\n",
       "junction_detail                             0.077587\n",
       "junction_control                           41.445312\n",
       "second_road_number                         41.726382\n",
       "pedestrian_crossing_human_control           0.135411\n",
       "pedestrian_crossing_physical_facilities     0.461862\n",
       "light_conditions                            0.009515\n",
       "weather_conditions                          2.800448\n",
       "road_surface_conditions                     0.562871\n",
       "special_conditions_at_site                  0.369636\n",
       "carriageway_hazards                         0.399646\n",
       "trunk_road_flag                             9.711538\n",
       "dtype: float64"
      ]
     },
     "execution_count": 144,
     "metadata": {},
     "output_type": "execute_result"
    }
   ],
   "source": [
    "ds_clean = dataset.replace(['Data missing or out of range', 'unknown (self reported)'], np.nan)\n",
    "get_nan_count(ds_clean, percentage=True)"
   ]
  },
  {
   "cell_type": "markdown",
   "metadata": {},
   "source": [
    "Let's remove all the rows where some values are set to NaN in the columns with less than 1% missing values"
   ]
  },
  {
   "cell_type": "code",
   "execution_count": 145,
   "metadata": {},
   "outputs": [
    {
     "name": "stdout",
     "output_type": "stream",
     "text": [
      "road_type              0.834417\n",
      "junction_control      41.275942\n",
      "second_road_number    41.751907\n",
      "weather_conditions     2.337699\n",
      "trunk_road_flag        9.798676\n",
      "dtype: float64\n",
      "Removed percentage 0.9639806471918644\n"
     ]
    }
   ],
   "source": [
    "def remove_rows_with_nan_less_than(dataset: pd.DataFrame, threshold:float = 0):\n",
    "    cnt = dataset.isna().sum()\n",
    "    cnt = cnt[cnt > 0] \n",
    "    cnt = cnt * 100 / len(dataset)\n",
    "    cnt = cnt[cnt < threshold]\n",
    "    cols = cnt.index.to_list()\n",
    "    return dataset.dropna(axis='index', subset=cols)\n",
    "ds_clean = remove_rows_with_nan_less_than(ds_clean, threshold=1)\n",
    "print(get_nan_count(ds_clean, percentage=True))\n",
    "print('Removed percentage', (1 - len(ds_clean)/ len(dataset))*100)\n"
   ]
  },
  {
   "cell_type": "markdown",
   "metadata": {},
   "source": [
    "We will handle the MCAR values that has higher percentage than 1% by replacing them with the mode. Because they are categorical and replacing by the mode won't affect much since their % are not much. These are road_type, weather_conditions, trunk_road_flag."
   ]
  },
  {
   "cell_type": "code",
   "execution_count": 146,
   "metadata": {},
   "outputs": [
    {
     "data": {
      "text/plain": [
       "junction_control      41.275942\n",
       "second_road_number    41.751907\n",
       "dtype: float64"
      ]
     },
     "execution_count": 146,
     "metadata": {},
     "output_type": "execute_result"
    }
   ],
   "source": [
    "def replace_nan_with_mode(dataset:pd.DataFrame, col_name):\n",
    "    return dataset[col_name].fillna(dataset[col_name].mode()[0])\n",
    "\n",
    "\n",
    "for col_name in ['road_type', 'weather_conditions', 'trunk_road_flag']:\n",
    "    ds_clean[col_name] = replace_nan_with_mode(ds_clean, col_name)\n",
    "\n",
    "get_nan_count(ds_clean, percentage=True)\n"
   ]
  },
  {
   "cell_type": "markdown",
   "metadata": {},
   "source": [
    "Since the junction control and the second road number are missing from nearly half of the records and their abscense is explained by the value of the junction detail being set to no junction (MAR), I will keep them to avoid the data being biased and I will replace their nan values with a universal \"None\" that indicates there's no value here."
   ]
  },
  {
   "cell_type": "code",
   "execution_count": 147,
   "metadata": {},
   "outputs": [
    {
     "data": {
      "text/plain": [
       "Series([], dtype: float64)"
      ]
     },
     "execution_count": 147,
     "metadata": {},
     "output_type": "execute_result"
    }
   ],
   "source": [
    "for col_name in ['junction_control', 'second_road_number']:\n",
    "    ds_clean[col_name] = ds_clean[col_name].fillna('None')\n",
    "get_nan_count(ds_clean, percentage=True)\n"
   ]
  },
  {
   "cell_type": "markdown",
   "metadata": {},
   "source": [
    "Since the values for the second road class contain -1 to indicate that there's no second road and thus there is no class, we will convert the -1 to None to be consistent with others."
   ]
  },
  {
   "cell_type": "code",
   "execution_count": 148,
   "metadata": {},
   "outputs": [],
   "source": [
    "ds_clean.second_road_class = ds_clean.second_road_class.replace('-1', 'None')"
   ]
  },
  {
   "cell_type": "markdown",
   "metadata": {},
   "source": [
    "## Findings and conclusions"
   ]
  },
  {
   "cell_type": "markdown",
   "metadata": {},
   "source": [
    "There were not much missing values except for the junction situation. This was handled perfectly to reflect the missing values meaning. Now the dataset has no missing values."
   ]
  },
  {
   "cell_type": "markdown",
   "metadata": {},
   "source": [
    "## Handling unclean data"
   ]
  },
  {
   "cell_type": "markdown",
   "metadata": {},
   "source": [
    "Let's inspect the values of some of the columns and ensure they are in good format.\n",
    "\n",
    "The indicator features should have typically 2 values (true or false)."
   ]
  },
  {
   "cell_type": "code",
   "execution_count": 149,
   "metadata": {},
   "outputs": [
    {
     "data": {
      "text/plain": [
       "accident_index                                 135304\n",
       "accident_year                                       1\n",
       "accident_reference                             135304\n",
       "location_easting_osgr                           94221\n",
       "location_northing_osgr                          96729\n",
       "longitude                                      129428\n",
       "latitude                                       128099\n",
       "police_force                                       51\n",
       "accident_severity                                   3\n",
       "number_of_vehicles                                 14\n",
       "number_of_casualties                               22\n",
       "date                                              366\n",
       "day_of_week                                         7\n",
       "time                                             1440\n",
       "local_authority_district                          380\n",
       "local_authority_ons_district                      381\n",
       "local_authority_highway                           208\n",
       "first_road_class                                    6\n",
       "first_road_number                                3322\n",
       "road_type                                           5\n",
       "speed_limit                                         6\n",
       "junction_detail                                     9\n",
       "junction_control                                    6\n",
       "second_road_class                                   7\n",
       "second_road_number                               2605\n",
       "pedestrian_crossing_human_control                   3\n",
       "pedestrian_crossing_physical_facilities             6\n",
       "light_conditions                                    5\n",
       "weather_conditions                                  8\n",
       "road_surface_conditions                             5\n",
       "special_conditions_at_site                          8\n",
       "carriageway_hazards                                 6\n",
       "urban_or_rural_area                                 2\n",
       "did_police_officer_attend_scene_of_accident         3\n",
       "trunk_road_flag                                     2\n",
       "lsoa_of_accident_location                       28603\n",
       "dtype: int64"
      ]
     },
     "execution_count": 149,
     "metadata": {},
     "output_type": "execute_result"
    }
   ],
   "source": [
    "ds_clean.nunique()"
   ]
  },
  {
   "cell_type": "code",
   "execution_count": 150,
   "metadata": {},
   "outputs": [
    {
     "data": {
      "text/plain": [
       "Yes                                                                         103633\n",
       "No                                                                           30574\n",
       "No - accident was reported using a self completion  form (self rep only)      1097\n",
       "Name: did_police_officer_attend_scene_of_accident, dtype: int64"
      ]
     },
     "execution_count": 150,
     "metadata": {},
     "output_type": "execute_result"
    }
   ],
   "source": [
    "col_name = 'did_police_officer_attend_scene_of_accident'\n",
    "ds_clean[col_name].value_counts()"
   ]
  },
  {
   "cell_type": "markdown",
   "metadata": {},
   "source": [
    "It's more convenient to aggregate the two no options together."
   ]
  },
  {
   "cell_type": "code",
   "execution_count": 151,
   "metadata": {},
   "outputs": [
    {
     "data": {
      "text/plain": [
       "Yes    103633\n",
       "No      31671\n",
       "Name: did_police_officer_attend_scene_of_accident, dtype: int64"
      ]
     },
     "execution_count": 151,
     "metadata": {},
     "output_type": "execute_result"
    }
   ],
   "source": [
    "ds_clean[col_name] = ds_clean[col_name].replace('No - accident was reported using a self completion  form (self rep only)', 'No')\n",
    "ds_clean[col_name].value_counts()"
   ]
  },
  {
   "cell_type": "code",
   "execution_count": 166,
   "metadata": {},
   "outputs": [],
   "source": [
    "# for col_name in ['day_of_week', 'first_road_class', 'second_road_class', 'road_type', 'speed_limit', 'junction_detail', 'junction_control', \n",
    "# 'pedestrian_crossing_human_control', 'pedestrian_crossing_physical_facilities', 'light_conditions', 'weather_conditions', 'road_surface_conditions',\n",
    "# 'special_conditions_at_site', 'carriageway_hazards', 'urban_or_rural_area', 'trunk_road_flag']:\n",
    "#     print(ds_clean[col_name].value_counts())\n",
    "#     print('-----------------------------------')"
   ]
  },
  {
   "cell_type": "markdown",
   "metadata": {},
   "source": [
    "I looked at all the distinct values and they are all clean now.\n",
    "I commented it to decrease the long scroll the notebook."
   ]
  },
  {
   "cell_type": "markdown",
   "metadata": {},
   "source": [
    "## Handling duplicate and useless data"
   ]
  },
  {
   "cell_type": "code",
   "execution_count": 153,
   "metadata": {},
   "outputs": [
    {
     "data": {
      "text/html": [
       "<div>\n",
       "<style scoped>\n",
       "    .dataframe tbody tr th:only-of-type {\n",
       "        vertical-align: middle;\n",
       "    }\n",
       "\n",
       "    .dataframe tbody tr th {\n",
       "        vertical-align: top;\n",
       "    }\n",
       "\n",
       "    .dataframe thead th {\n",
       "        text-align: right;\n",
       "    }\n",
       "</style>\n",
       "<table border=\"1\" class=\"dataframe\">\n",
       "  <thead>\n",
       "    <tr style=\"text-align: right;\">\n",
       "      <th></th>\n",
       "      <th>accident_index</th>\n",
       "      <th>accident_year</th>\n",
       "      <th>accident_reference</th>\n",
       "      <th>location_easting_osgr</th>\n",
       "      <th>location_northing_osgr</th>\n",
       "      <th>longitude</th>\n",
       "      <th>latitude</th>\n",
       "      <th>police_force</th>\n",
       "      <th>accident_severity</th>\n",
       "      <th>number_of_vehicles</th>\n",
       "      <th>number_of_casualties</th>\n",
       "      <th>date</th>\n",
       "      <th>day_of_week</th>\n",
       "      <th>time</th>\n",
       "      <th>local_authority_district</th>\n",
       "      <th>local_authority_ons_district</th>\n",
       "      <th>local_authority_highway</th>\n",
       "      <th>first_road_class</th>\n",
       "      <th>first_road_number</th>\n",
       "      <th>road_type</th>\n",
       "      <th>speed_limit</th>\n",
       "      <th>junction_detail</th>\n",
       "      <th>junction_control</th>\n",
       "      <th>second_road_class</th>\n",
       "      <th>second_road_number</th>\n",
       "      <th>pedestrian_crossing_human_control</th>\n",
       "      <th>pedestrian_crossing_physical_facilities</th>\n",
       "      <th>light_conditions</th>\n",
       "      <th>weather_conditions</th>\n",
       "      <th>road_surface_conditions</th>\n",
       "      <th>special_conditions_at_site</th>\n",
       "      <th>carriageway_hazards</th>\n",
       "      <th>urban_or_rural_area</th>\n",
       "      <th>did_police_officer_attend_scene_of_accident</th>\n",
       "      <th>trunk_road_flag</th>\n",
       "      <th>lsoa_of_accident_location</th>\n",
       "    </tr>\n",
       "  </thead>\n",
       "  <tbody>\n",
       "    <tr>\n",
       "      <th>0</th>\n",
       "      <td>2016010000005</td>\n",
       "      <td>2016</td>\n",
       "      <td>010000005</td>\n",
       "      <td>519310.0</td>\n",
       "      <td>188730.0</td>\n",
       "      <td>-0.279323</td>\n",
       "      <td>51.584754</td>\n",
       "      <td>Metropolitan Police</td>\n",
       "      <td>Slight</td>\n",
       "      <td>2</td>\n",
       "      <td>1</td>\n",
       "      <td>01/11/2016</td>\n",
       "      <td>Tuesday</td>\n",
       "      <td>02:30</td>\n",
       "      <td>Brent</td>\n",
       "      <td>Brent</td>\n",
       "      <td>Brent</td>\n",
       "      <td>A</td>\n",
       "      <td>4006</td>\n",
       "      <td>Single carriageway</td>\n",
       "      <td>30.0</td>\n",
       "      <td>Not at junction or within 20 metres</td>\n",
       "      <td>None</td>\n",
       "      <td>None</td>\n",
       "      <td>None</td>\n",
       "      <td>None within 50 metres</td>\n",
       "      <td>No physical crossing facilities within 50 metres</td>\n",
       "      <td>Darkness - lights unlit</td>\n",
       "      <td>Fine no high winds</td>\n",
       "      <td>Dry</td>\n",
       "      <td>None</td>\n",
       "      <td>None</td>\n",
       "      <td>Urban</td>\n",
       "      <td>Yes</td>\n",
       "      <td>Non-trunk</td>\n",
       "      <td>E01000543</td>\n",
       "    </tr>\n",
       "    <tr>\n",
       "      <th>1</th>\n",
       "      <td>2016010000006</td>\n",
       "      <td>2016</td>\n",
       "      <td>010000006</td>\n",
       "      <td>551920.0</td>\n",
       "      <td>174560.0</td>\n",
       "      <td>0.184928</td>\n",
       "      <td>51.449595</td>\n",
       "      <td>Metropolitan Police</td>\n",
       "      <td>Slight</td>\n",
       "      <td>1</td>\n",
       "      <td>1</td>\n",
       "      <td>01/11/2016</td>\n",
       "      <td>Tuesday</td>\n",
       "      <td>00:37</td>\n",
       "      <td>Bexley</td>\n",
       "      <td>Bexley</td>\n",
       "      <td>Bexley</td>\n",
       "      <td>A</td>\n",
       "      <td>207</td>\n",
       "      <td>Single carriageway</td>\n",
       "      <td>30.0</td>\n",
       "      <td>Other junction</td>\n",
       "      <td>Give way or uncontrolled</td>\n",
       "      <td>Unclassified</td>\n",
       "      <td>first_road_class is C or Unclassified. These r...</td>\n",
       "      <td>None within 50 metres</td>\n",
       "      <td>No physical crossing facilities within 50 metres</td>\n",
       "      <td>Darkness - lights lit</td>\n",
       "      <td>Fine no high winds</td>\n",
       "      <td>Dry</td>\n",
       "      <td>None</td>\n",
       "      <td>None</td>\n",
       "      <td>Urban</td>\n",
       "      <td>Yes</td>\n",
       "      <td>Non-trunk</td>\n",
       "      <td>E01000375</td>\n",
       "    </tr>\n",
       "    <tr>\n",
       "      <th>2</th>\n",
       "      <td>2016010000008</td>\n",
       "      <td>2016</td>\n",
       "      <td>010000008</td>\n",
       "      <td>505930.0</td>\n",
       "      <td>183850.0</td>\n",
       "      <td>-0.473837</td>\n",
       "      <td>51.543563</td>\n",
       "      <td>Metropolitan Police</td>\n",
       "      <td>Slight</td>\n",
       "      <td>1</td>\n",
       "      <td>1</td>\n",
       "      <td>01/11/2016</td>\n",
       "      <td>Tuesday</td>\n",
       "      <td>01:25</td>\n",
       "      <td>Hillingdon</td>\n",
       "      <td>Hillingdon</td>\n",
       "      <td>Hillingdon</td>\n",
       "      <td>A</td>\n",
       "      <td>4020</td>\n",
       "      <td>Roundabout</td>\n",
       "      <td>30.0</td>\n",
       "      <td>Roundabout</td>\n",
       "      <td>Give way or uncontrolled</td>\n",
       "      <td>A</td>\n",
       "      <td>4020.0</td>\n",
       "      <td>None within 50 metres</td>\n",
       "      <td>No physical crossing facilities within 50 metres</td>\n",
       "      <td>Darkness - lights lit</td>\n",
       "      <td>Fine no high winds</td>\n",
       "      <td>Dry</td>\n",
       "      <td>None</td>\n",
       "      <td>None</td>\n",
       "      <td>Urban</td>\n",
       "      <td>Yes</td>\n",
       "      <td>Non-trunk</td>\n",
       "      <td>E01033725</td>\n",
       "    </tr>\n",
       "    <tr>\n",
       "      <th>3</th>\n",
       "      <td>2016010000016</td>\n",
       "      <td>2016</td>\n",
       "      <td>010000016</td>\n",
       "      <td>527770.0</td>\n",
       "      <td>168930.0</td>\n",
       "      <td>-0.164442</td>\n",
       "      <td>51.404958</td>\n",
       "      <td>Metropolitan Police</td>\n",
       "      <td>Slight</td>\n",
       "      <td>1</td>\n",
       "      <td>1</td>\n",
       "      <td>01/11/2016</td>\n",
       "      <td>Tuesday</td>\n",
       "      <td>09:15</td>\n",
       "      <td>Merton</td>\n",
       "      <td>Merton</td>\n",
       "      <td>Merton</td>\n",
       "      <td>A</td>\n",
       "      <td>217</td>\n",
       "      <td>Single carriageway</td>\n",
       "      <td>30.0</td>\n",
       "      <td>T or staggered junction</td>\n",
       "      <td>Auto traffic signal</td>\n",
       "      <td>A</td>\n",
       "      <td>217.0</td>\n",
       "      <td>None within 50 metres</td>\n",
       "      <td>No physical crossing facilities within 50 metres</td>\n",
       "      <td>Daylight</td>\n",
       "      <td>Fine no high winds</td>\n",
       "      <td>Dry</td>\n",
       "      <td>None</td>\n",
       "      <td>None</td>\n",
       "      <td>Urban</td>\n",
       "      <td>Yes</td>\n",
       "      <td>Non-trunk</td>\n",
       "      <td>E01003379</td>\n",
       "    </tr>\n",
       "    <tr>\n",
       "      <th>4</th>\n",
       "      <td>2016010000018</td>\n",
       "      <td>2016</td>\n",
       "      <td>010000018</td>\n",
       "      <td>510740.0</td>\n",
       "      <td>177230.0</td>\n",
       "      <td>-0.406580</td>\n",
       "      <td>51.483139</td>\n",
       "      <td>Metropolitan Police</td>\n",
       "      <td>Slight</td>\n",
       "      <td>2</td>\n",
       "      <td>1</td>\n",
       "      <td>01/11/2016</td>\n",
       "      <td>Tuesday</td>\n",
       "      <td>07:53</td>\n",
       "      <td>Hounslow</td>\n",
       "      <td>Hounslow</td>\n",
       "      <td>Hounslow</td>\n",
       "      <td>A</td>\n",
       "      <td>312</td>\n",
       "      <td>Dual carriageway</td>\n",
       "      <td>40.0</td>\n",
       "      <td>Not at junction or within 20 metres</td>\n",
       "      <td>None</td>\n",
       "      <td>None</td>\n",
       "      <td>None</td>\n",
       "      <td>None within 50 metres</td>\n",
       "      <td>No physical crossing facilities within 50 metres</td>\n",
       "      <td>Daylight</td>\n",
       "      <td>Fine no high winds</td>\n",
       "      <td>Dry</td>\n",
       "      <td>None</td>\n",
       "      <td>None</td>\n",
       "      <td>Urban</td>\n",
       "      <td>Yes</td>\n",
       "      <td>Non-trunk</td>\n",
       "      <td>E01002583</td>\n",
       "    </tr>\n",
       "  </tbody>\n",
       "</table>\n",
       "</div>"
      ],
      "text/plain": [
       "  accident_index  accident_year accident_reference  location_easting_osgr  \\\n",
       "0  2016010000005           2016          010000005               519310.0   \n",
       "1  2016010000006           2016          010000006               551920.0   \n",
       "2  2016010000008           2016          010000008               505930.0   \n",
       "3  2016010000016           2016          010000016               527770.0   \n",
       "4  2016010000018           2016          010000018               510740.0   \n",
       "\n",
       "   location_northing_osgr  longitude   latitude         police_force  \\\n",
       "0                188730.0  -0.279323  51.584754  Metropolitan Police   \n",
       "1                174560.0   0.184928  51.449595  Metropolitan Police   \n",
       "2                183850.0  -0.473837  51.543563  Metropolitan Police   \n",
       "3                168930.0  -0.164442  51.404958  Metropolitan Police   \n",
       "4                177230.0  -0.406580  51.483139  Metropolitan Police   \n",
       "\n",
       "  accident_severity  number_of_vehicles  number_of_casualties        date  \\\n",
       "0            Slight                   2                     1  01/11/2016   \n",
       "1            Slight                   1                     1  01/11/2016   \n",
       "2            Slight                   1                     1  01/11/2016   \n",
       "3            Slight                   1                     1  01/11/2016   \n",
       "4            Slight                   2                     1  01/11/2016   \n",
       "\n",
       "  day_of_week   time local_authority_district local_authority_ons_district  \\\n",
       "0     Tuesday  02:30                    Brent                        Brent   \n",
       "1     Tuesday  00:37                   Bexley                       Bexley   \n",
       "2     Tuesday  01:25               Hillingdon                   Hillingdon   \n",
       "3     Tuesday  09:15                   Merton                       Merton   \n",
       "4     Tuesday  07:53                 Hounslow                     Hounslow   \n",
       "\n",
       "  local_authority_highway first_road_class first_road_number  \\\n",
       "0                   Brent                A              4006   \n",
       "1                  Bexley                A               207   \n",
       "2              Hillingdon                A              4020   \n",
       "3                  Merton                A               217   \n",
       "4                Hounslow                A               312   \n",
       "\n",
       "            road_type  speed_limit                      junction_detail  \\\n",
       "0  Single carriageway         30.0  Not at junction or within 20 metres   \n",
       "1  Single carriageway         30.0                       Other junction   \n",
       "2          Roundabout         30.0                           Roundabout   \n",
       "3  Single carriageway         30.0              T or staggered junction   \n",
       "4    Dual carriageway         40.0  Not at junction or within 20 metres   \n",
       "\n",
       "           junction_control second_road_class  \\\n",
       "0                      None              None   \n",
       "1  Give way or uncontrolled      Unclassified   \n",
       "2  Give way or uncontrolled                 A   \n",
       "3       Auto traffic signal                 A   \n",
       "4                      None              None   \n",
       "\n",
       "                                  second_road_number  \\\n",
       "0                                               None   \n",
       "1  first_road_class is C or Unclassified. These r...   \n",
       "2                                             4020.0   \n",
       "3                                              217.0   \n",
       "4                                               None   \n",
       "\n",
       "  pedestrian_crossing_human_control  \\\n",
       "0            None within 50 metres    \n",
       "1            None within 50 metres    \n",
       "2            None within 50 metres    \n",
       "3            None within 50 metres    \n",
       "4            None within 50 metres    \n",
       "\n",
       "            pedestrian_crossing_physical_facilities         light_conditions  \\\n",
       "0  No physical crossing facilities within 50 metres  Darkness - lights unlit   \n",
       "1  No physical crossing facilities within 50 metres    Darkness - lights lit   \n",
       "2  No physical crossing facilities within 50 metres    Darkness - lights lit   \n",
       "3  No physical crossing facilities within 50 metres                 Daylight   \n",
       "4  No physical crossing facilities within 50 metres                 Daylight   \n",
       "\n",
       "   weather_conditions road_surface_conditions special_conditions_at_site  \\\n",
       "0  Fine no high winds                     Dry                       None   \n",
       "1  Fine no high winds                     Dry                       None   \n",
       "2  Fine no high winds                     Dry                       None   \n",
       "3  Fine no high winds                     Dry                       None   \n",
       "4  Fine no high winds                     Dry                       None   \n",
       "\n",
       "  carriageway_hazards urban_or_rural_area  \\\n",
       "0                None               Urban   \n",
       "1                None               Urban   \n",
       "2                None               Urban   \n",
       "3                None               Urban   \n",
       "4                None               Urban   \n",
       "\n",
       "  did_police_officer_attend_scene_of_accident trunk_road_flag  \\\n",
       "0                                         Yes       Non-trunk   \n",
       "1                                         Yes       Non-trunk   \n",
       "2                                         Yes       Non-trunk   \n",
       "3                                         Yes       Non-trunk   \n",
       "4                                         Yes       Non-trunk   \n",
       "\n",
       "  lsoa_of_accident_location  \n",
       "0                 E01000543  \n",
       "1                 E01000375  \n",
       "2                 E01033725  \n",
       "3                 E01003379  \n",
       "4                 E01002583  "
      ]
     },
     "execution_count": 153,
     "metadata": {},
     "output_type": "execute_result"
    }
   ],
   "source": [
    "ds_clean.head()"
   ]
  },
  {
   "cell_type": "markdown",
   "metadata": {},
   "source": [
    "The accident index and reference are both unique and identify an accident. We can remove the accident index because it's useless.\n",
    "\n",
    "Let's also remove the accident year since all the values are 2016 and storing all of them would be a waste of memory."
   ]
  },
  {
   "cell_type": "code",
   "execution_count": 154,
   "metadata": {},
   "outputs": [
    {
     "data": {
      "text/plain": [
       "Index(['accident_reference', 'location_easting_osgr', 'location_northing_osgr',\n",
       "       'longitude', 'latitude', 'police_force', 'accident_severity',\n",
       "       'number_of_vehicles', 'number_of_casualties', 'date', 'day_of_week',\n",
       "       'time', 'local_authority_district', 'local_authority_ons_district',\n",
       "       'local_authority_highway', 'first_road_class', 'first_road_number',\n",
       "       'road_type', 'speed_limit', 'junction_detail', 'junction_control',\n",
       "       'second_road_class', 'second_road_number',\n",
       "       'pedestrian_crossing_human_control',\n",
       "       'pedestrian_crossing_physical_facilities', 'light_conditions',\n",
       "       'weather_conditions', 'road_surface_conditions',\n",
       "       'special_conditions_at_site', 'carriageway_hazards',\n",
       "       'urban_or_rural_area', 'did_police_officer_attend_scene_of_accident',\n",
       "       'trunk_road_flag', 'lsoa_of_accident_location'],\n",
       "      dtype='object')"
      ]
     },
     "execution_count": 154,
     "metadata": {},
     "output_type": "execute_result"
    }
   ],
   "source": [
    "ds_clean = ds_clean.drop(['accident_index', 'accident_year'], axis=1)\n",
    "ds_clean.columns\n"
   ]
  },
  {
   "cell_type": "markdown",
   "metadata": {},
   "source": [
    "Let's see if there are duplicate values"
   ]
  },
  {
   "cell_type": "code",
   "execution_count": 155,
   "metadata": {},
   "outputs": [
    {
     "name": "stdout",
     "output_type": "stream",
     "text": [
      "all columns 0\n",
      "accident reference 0\n",
      "all except reference 6\n"
     ]
    }
   ],
   "source": [
    "print('all columns', ds_clean.duplicated().sum())\n",
    "print('accident reference', ds_clean.duplicated(['accident_reference']).sum())\n",
    "all_cols_except_ref = ds_clean.columns.to_list()\n",
    "all_cols_except_ref.remove('accident_reference')\n",
    "print('all except reference', ds_clean.duplicated(all_cols_except_ref).sum())"
   ]
  },
  {
   "cell_type": "markdown",
   "metadata": {},
   "source": [
    "If we compared all the feature values for duplicates we will not find any. If we consider all the values except the reference, there exist 6 duplicate values which shall be removed."
   ]
  },
  {
   "cell_type": "code",
   "execution_count": 156,
   "metadata": {},
   "outputs": [
    {
     "name": "stdout",
     "output_type": "stream",
     "text": [
      "all except reference 0\n"
     ]
    }
   ],
   "source": [
    "ds_clean = ds_clean.drop_duplicates(all_cols_except_ref)\n",
    "print('all except reference', ds_clean.duplicated(all_cols_except_ref).sum())\n"
   ]
  },
  {
   "cell_type": "markdown",
   "metadata": {},
   "source": [
    "## Observing outliers"
   ]
  },
  {
   "cell_type": "markdown",
   "metadata": {},
   "source": [
    "There are only a couple of numerical features that might contain outliers. Let's have a look at some of their stats."
   ]
  },
  {
   "cell_type": "code",
   "execution_count": 157,
   "metadata": {},
   "outputs": [
    {
     "data": {
      "text/html": [
       "<div>\n",
       "<style scoped>\n",
       "    .dataframe tbody tr th:only-of-type {\n",
       "        vertical-align: middle;\n",
       "    }\n",
       "\n",
       "    .dataframe tbody tr th {\n",
       "        vertical-align: top;\n",
       "    }\n",
       "\n",
       "    .dataframe thead th {\n",
       "        text-align: right;\n",
       "    }\n",
       "</style>\n",
       "<table border=\"1\" class=\"dataframe\">\n",
       "  <thead>\n",
       "    <tr style=\"text-align: right;\">\n",
       "      <th></th>\n",
       "      <th>location_easting_osgr</th>\n",
       "      <th>location_northing_osgr</th>\n",
       "      <th>longitude</th>\n",
       "      <th>latitude</th>\n",
       "      <th>number_of_vehicles</th>\n",
       "      <th>number_of_casualties</th>\n",
       "      <th>speed_limit</th>\n",
       "    </tr>\n",
       "  </thead>\n",
       "  <tbody>\n",
       "    <tr>\n",
       "      <th>count</th>\n",
       "      <td>135298.000000</td>\n",
       "      <td>1.352980e+05</td>\n",
       "      <td>135298.000000</td>\n",
       "      <td>135298.000000</td>\n",
       "      <td>135298.000000</td>\n",
       "      <td>135298.000000</td>\n",
       "      <td>135298.000000</td>\n",
       "    </tr>\n",
       "    <tr>\n",
       "      <th>mean</th>\n",
       "      <td>448278.298216</td>\n",
       "      <td>2.887785e+05</td>\n",
       "      <td>-1.311062</td>\n",
       "      <td>52.486391</td>\n",
       "      <td>1.849111</td>\n",
       "      <td>1.329332</td>\n",
       "      <td>37.984967</td>\n",
       "    </tr>\n",
       "    <tr>\n",
       "      <th>std</th>\n",
       "      <td>95383.289072</td>\n",
       "      <td>1.575378e+05</td>\n",
       "      <td>1.401275</td>\n",
       "      <td>1.418685</td>\n",
       "      <td>0.710392</td>\n",
       "      <td>0.791406</td>\n",
       "      <td>14.061562</td>\n",
       "    </tr>\n",
       "    <tr>\n",
       "      <th>min</th>\n",
       "      <td>76702.000000</td>\n",
       "      <td>1.107500e+04</td>\n",
       "      <td>-7.389809</td>\n",
       "      <td>49.919716</td>\n",
       "      <td>1.000000</td>\n",
       "      <td>1.000000</td>\n",
       "      <td>20.000000</td>\n",
       "    </tr>\n",
       "    <tr>\n",
       "      <th>25%</th>\n",
       "      <td>385850.250000</td>\n",
       "      <td>1.763200e+05</td>\n",
       "      <td>-2.212812</td>\n",
       "      <td>51.473065</td>\n",
       "      <td>1.000000</td>\n",
       "      <td>1.000000</td>\n",
       "      <td>30.000000</td>\n",
       "    </tr>\n",
       "    <tr>\n",
       "      <th>50%</th>\n",
       "      <td>453622.500000</td>\n",
       "      <td>2.380975e+05</td>\n",
       "      <td>-1.209135</td>\n",
       "      <td>52.029078</td>\n",
       "      <td>2.000000</td>\n",
       "      <td>1.000000</td>\n",
       "      <td>30.000000</td>\n",
       "    </tr>\n",
       "    <tr>\n",
       "      <th>75%</th>\n",
       "      <td>527457.000000</td>\n",
       "      <td>3.903335e+05</td>\n",
       "      <td>-0.162852</td>\n",
       "      <td>53.407116</td>\n",
       "      <td>2.000000</td>\n",
       "      <td>1.000000</td>\n",
       "      <td>40.000000</td>\n",
       "    </tr>\n",
       "    <tr>\n",
       "      <th>max</th>\n",
       "      <td>655256.000000</td>\n",
       "      <td>1.178623e+06</td>\n",
       "      <td>1.757858</td>\n",
       "      <td>60.490191</td>\n",
       "      <td>16.000000</td>\n",
       "      <td>58.000000</td>\n",
       "      <td>70.000000</td>\n",
       "    </tr>\n",
       "  </tbody>\n",
       "</table>\n",
       "</div>"
      ],
      "text/plain": [
       "       location_easting_osgr  location_northing_osgr      longitude  \\\n",
       "count          135298.000000            1.352980e+05  135298.000000   \n",
       "mean           448278.298216            2.887785e+05      -1.311062   \n",
       "std             95383.289072            1.575378e+05       1.401275   \n",
       "min             76702.000000            1.107500e+04      -7.389809   \n",
       "25%            385850.250000            1.763200e+05      -2.212812   \n",
       "50%            453622.500000            2.380975e+05      -1.209135   \n",
       "75%            527457.000000            3.903335e+05      -0.162852   \n",
       "max            655256.000000            1.178623e+06       1.757858   \n",
       "\n",
       "            latitude  number_of_vehicles  number_of_casualties    speed_limit  \n",
       "count  135298.000000       135298.000000         135298.000000  135298.000000  \n",
       "mean       52.486391            1.849111              1.329332      37.984967  \n",
       "std         1.418685            0.710392              0.791406      14.061562  \n",
       "min        49.919716            1.000000              1.000000      20.000000  \n",
       "25%        51.473065            1.000000              1.000000      30.000000  \n",
       "50%        52.029078            2.000000              1.000000      30.000000  \n",
       "75%        53.407116            2.000000              1.000000      40.000000  \n",
       "max        60.490191           16.000000             58.000000      70.000000  "
      ]
     },
     "execution_count": 157,
     "metadata": {},
     "output_type": "execute_result"
    }
   ],
   "source": [
    "ds_clean.describe()"
   ]
  },
  {
   "cell_type": "markdown",
   "metadata": {},
   "source": [
    "The number of vehicles ranges from [1:16] which is reasonable range for cars involved in an accident. A range of [1:58] is also okay for the number of casualties. \n",
    "\n",
    "The speed limit is already categorized into a couple of values in range [20:70] which indicates no outliers."
   ]
  },
  {
   "cell_type": "code",
   "execution_count": 158,
   "metadata": {},
   "outputs": [
    {
     "data": {
      "text/html": [
       "<div>\n",
       "<style scoped>\n",
       "    .dataframe tbody tr th:only-of-type {\n",
       "        vertical-align: middle;\n",
       "    }\n",
       "\n",
       "    .dataframe tbody tr th {\n",
       "        vertical-align: top;\n",
       "    }\n",
       "\n",
       "    .dataframe thead th {\n",
       "        text-align: right;\n",
       "    }\n",
       "</style>\n",
       "<table border=\"1\" class=\"dataframe\">\n",
       "  <thead>\n",
       "    <tr style=\"text-align: right;\">\n",
       "      <th></th>\n",
       "      <th>accident_reference</th>\n",
       "      <th>location_easting_osgr</th>\n",
       "      <th>location_northing_osgr</th>\n",
       "      <th>longitude</th>\n",
       "      <th>latitude</th>\n",
       "      <th>police_force</th>\n",
       "      <th>accident_severity</th>\n",
       "      <th>number_of_vehicles</th>\n",
       "      <th>number_of_casualties</th>\n",
       "      <th>date</th>\n",
       "      <th>day_of_week</th>\n",
       "      <th>time</th>\n",
       "      <th>local_authority_district</th>\n",
       "      <th>local_authority_ons_district</th>\n",
       "      <th>local_authority_highway</th>\n",
       "      <th>first_road_class</th>\n",
       "      <th>first_road_number</th>\n",
       "      <th>road_type</th>\n",
       "      <th>speed_limit</th>\n",
       "      <th>junction_detail</th>\n",
       "      <th>junction_control</th>\n",
       "      <th>second_road_class</th>\n",
       "      <th>second_road_number</th>\n",
       "      <th>pedestrian_crossing_human_control</th>\n",
       "      <th>pedestrian_crossing_physical_facilities</th>\n",
       "      <th>light_conditions</th>\n",
       "      <th>weather_conditions</th>\n",
       "      <th>road_surface_conditions</th>\n",
       "      <th>special_conditions_at_site</th>\n",
       "      <th>carriageway_hazards</th>\n",
       "      <th>urban_or_rural_area</th>\n",
       "      <th>did_police_officer_attend_scene_of_accident</th>\n",
       "      <th>trunk_road_flag</th>\n",
       "      <th>lsoa_of_accident_location</th>\n",
       "    </tr>\n",
       "  </thead>\n",
       "  <tbody>\n",
       "    <tr>\n",
       "      <th>75626</th>\n",
       "      <td>34NE09806</td>\n",
       "      <td>504003.0</td>\n",
       "      <td>290817.0</td>\n",
       "      <td>-0.469132</td>\n",
       "      <td>52.505308</td>\n",
       "      <td>Northamptonshire</td>\n",
       "      <td>Serious</td>\n",
       "      <td>2</td>\n",
       "      <td>58</td>\n",
       "      <td>14/07/2016</td>\n",
       "      <td>Thursday</td>\n",
       "      <td>15:58</td>\n",
       "      <td>East Northamptonshire</td>\n",
       "      <td>East Northamptonshire</td>\n",
       "      <td>Northamptonshire</td>\n",
       "      <td>C</td>\n",
       "      <td>first_road_class is C or Unclassified. These r...</td>\n",
       "      <td>Single carriageway</td>\n",
       "      <td>60.0</td>\n",
       "      <td>Crossroads</td>\n",
       "      <td>Give way or uncontrolled</td>\n",
       "      <td>C</td>\n",
       "      <td>first_road_class is C or Unclassified. These r...</td>\n",
       "      <td>None within 50 metres</td>\n",
       "      <td>No physical crossing facilities within 50 metres</td>\n",
       "      <td>Daylight</td>\n",
       "      <td>Fine no high winds</td>\n",
       "      <td>Dry</td>\n",
       "      <td>None</td>\n",
       "      <td>None</td>\n",
       "      <td>Rural</td>\n",
       "      <td>Yes</td>\n",
       "      <td>Non-trunk</td>\n",
       "      <td>E01027044</td>\n",
       "    </tr>\n",
       "  </tbody>\n",
       "</table>\n",
       "</div>"
      ],
      "text/plain": [
       "      accident_reference  location_easting_osgr  location_northing_osgr  \\\n",
       "75626          34NE09806               504003.0                290817.0   \n",
       "\n",
       "       longitude   latitude      police_force accident_severity  \\\n",
       "75626  -0.469132  52.505308  Northamptonshire           Serious   \n",
       "\n",
       "       number_of_vehicles  number_of_casualties        date day_of_week  \\\n",
       "75626                   2                    58  14/07/2016    Thursday   \n",
       "\n",
       "        time local_authority_district local_authority_ons_district  \\\n",
       "75626  15:58    East Northamptonshire        East Northamptonshire   \n",
       "\n",
       "      local_authority_highway first_road_class  \\\n",
       "75626        Northamptonshire                C   \n",
       "\n",
       "                                       first_road_number           road_type  \\\n",
       "75626  first_road_class is C or Unclassified. These r...  Single carriageway   \n",
       "\n",
       "       speed_limit junction_detail          junction_control  \\\n",
       "75626         60.0      Crossroads  Give way or uncontrolled   \n",
       "\n",
       "      second_road_class                                 second_road_number  \\\n",
       "75626                 C  first_road_class is C or Unclassified. These r...   \n",
       "\n",
       "      pedestrian_crossing_human_control  \\\n",
       "75626            None within 50 metres    \n",
       "\n",
       "                pedestrian_crossing_physical_facilities light_conditions  \\\n",
       "75626  No physical crossing facilities within 50 metres         Daylight   \n",
       "\n",
       "       weather_conditions road_surface_conditions special_conditions_at_site  \\\n",
       "75626  Fine no high winds                     Dry                       None   \n",
       "\n",
       "      carriageway_hazards urban_or_rural_area  \\\n",
       "75626                None               Rural   \n",
       "\n",
       "      did_police_officer_attend_scene_of_accident trunk_road_flag  \\\n",
       "75626                                         Yes       Non-trunk   \n",
       "\n",
       "      lsoa_of_accident_location  \n",
       "75626                 E01027044  "
      ]
     },
     "execution_count": 158,
     "metadata": {},
     "output_type": "execute_result"
    },
    {
     "data": {
      "image/png": "[encoded data removed]",
      "text/plain": [
       "<Figure size 640x480 with 1 Axes>"
      ]
     },
     "metadata": {},
     "output_type": "display_data"
    }
   ],
   "source": [
    "plt.boxplot(ds_clean.number_of_casualties)\n",
    "ds_clean[ds_clean.number_of_casualties == 58]\n"
   ]
  },
  {
   "cell_type": "markdown",
   "metadata": {},
   "source": [
    "Although there are many outliers according to the box plot. Looking at the accident info of the furthest point with 58 casualities makes sense as the severity is high."
   ]
  },
  {
   "cell_type": "markdown",
   "metadata": {},
   "source": [
    "To check the location outliars, I researched the uk min and max longitude [-8.62 : 1.77] and latitude [49.9 : 60.84] (src: https://gis.stackexchange.com/questions/152758/countries-latitude-and-longitude-range). Looking and the min and max of the values in the dataset implies that there are no outliers."
   ]
  },
  {
   "cell_type": "markdown",
   "metadata": {},
   "source": [
    "# 4 - Data transformation"
   ]
  },
  {
   "cell_type": "markdown",
   "metadata": {},
   "source": [
    "## 4.1 - Discretization"
   ]
  },
  {
   "cell_type": "markdown",
   "source": [
    "### Converting date (Object) -> dateTime dataType"
   ],
   "metadata": {
    "collapsed": false
   }
  },
  {
   "cell_type": "code",
   "execution_count": 33,
   "outputs": [],
   "source": [
    "dataset_copy=ds_clean.copy()\n",
    "dataset_copy['date'] =  pd.to_datetime(dataset_copy['date'], format='%d/%m/%Y')"
   ],
   "metadata": {
    "collapsed": false
   }
  },
  {
   "cell_type": "code",
   "execution_count": 34,
   "outputs": [
    {
     "data": {
      "text/plain": "0   2016-11-01\n1   2016-11-01\nName: date, dtype: datetime64[ns]"
     },
     "execution_count": 34,
     "metadata": {},
     "output_type": "execute_result"
    }
   ],
   "source": [
    "dataset_copy.loc[:,\"date\"].head(2)"
   ],
   "metadata": {
    "collapsed": false
   }
  },
  {
   "cell_type": "markdown",
   "source": [
    "### Discretizing the data into weeks according to the dates."
   ],
   "metadata": {
    "collapsed": false
   }
  },
  {
   "cell_type": "code",
   "execution_count": 35,
   "outputs": [],
   "source": [
    "ds_clean['Week number'] = dataset_copy['date'].dt.isocalendar().week"
   ],
   "metadata": {
    "collapsed": false
   }
  },
  {
   "cell_type": "code",
   "execution_count": 36,
   "outputs": [
    {
     "data": {
      "text/plain": "              date  Week number\n136619  29/10/2016           43\n136620  25/12/2016           51",
      "text/html": "<div>\n<style scoped>\n    .dataframe tbody tr th:only-of-type {\n        vertical-align: middle;\n    }\n\n    .dataframe tbody tr th {\n        vertical-align: top;\n    }\n\n    .dataframe thead th {\n        text-align: right;\n    }\n</style>\n<table border=\"1\" class=\"dataframe\">\n  <thead>\n    <tr style=\"text-align: right;\">\n      <th></th>\n      <th>date</th>\n      <th>Week number</th>\n    </tr>\n  </thead>\n  <tbody>\n    <tr>\n      <th>136619</th>\n      <td>29/10/2016</td>\n      <td>43</td>\n    </tr>\n    <tr>\n      <th>136620</th>\n      <td>25/12/2016</td>\n      <td>51</td>\n    </tr>\n  </tbody>\n</table>\n</div>"
     },
     "execution_count": 36,
     "metadata": {},
     "output_type": "execute_result"
    }
   ],
   "source": [
    "ds_clean.loc[:,[\"date\",\"Week number\"]].tail(2)"
   ],
   "metadata": {
    "collapsed": false
   }
  },
  {
   "cell_type": "markdown",
   "metadata": {},
   "source": [
    "## 4.11 - Findings and conclusions"
   ]
  },
  {
   "cell_type": "markdown",
   "source": [
    "This kind of discretisation is ***Equal frequency discretisation***"
   ],
   "metadata": {
    "collapsed": false
   }
  },
  {
   "cell_type": "markdown",
   "source": [
    "Equal width discretisation divides the scope of possible values into N bins of the same width.The width is determined by the range of values in the variable and the number of bins we wish to use to divide the variable:\n",
    "\n",
    "width = (max value(Max number of days) - min value(min number of day) // 7"
   ],
   "metadata": {
    "collapsed": false
   }
  },
  {
   "cell_type": "markdown",
   "source": [
    "Having a discrete data not continues ones helps us to visualize and discover data more easily and efficiency"
   ],
   "metadata": {
    "collapsed": false
   }
  },
  {
   "cell_type": "markdown",
   "metadata": {},
   "source": [
    "## 4.2 - Encoding\n",
    "Encoding data is typically used to ensure the integrity and usability of data and is commonly used when data cannot be transferred in its current format between systems or applications."
   ]
  },
  {
   "cell_type": "markdown",
   "source": [
    "We have three types of encoding techniques that we will use on our data, let's firstly mentioned them and why we need them.\n",
    "That will help us in classifying the right encode system for each attribute\n",
    "1. ***Label Encoding*** refers to converting the labels into a numeric form so as to convert them into the machine-readable form. Machine learning algorithms can then decide in a better way how those labels must be operated. It is an important pre-processing step for the structured dataset in supervised learning.\n",
    "2. ***One-hot*** encoding ensures that machine learning does not assume that higher numbers are more important. For example, the value '8' is bigger than the value '1', but that does not make '8' more important than '1'. The same is true for words: the value 'laughter' is not more important than 'laugh'\n",
    "3. ***One Hot Encoding of Frequent Categories*** is just One-hot encoding can be used to handle a large number of categories also. How does it do this? Suppose 200 categories are present in a feature then only those 10 categories which are the top 10 repeating categories will be chosen and one-hot encoding is applied to only those categories."
   ],
   "metadata": {
    "collapsed": false
   }
  },
  {
   "cell_type": "markdown",
   "source": [
    "Let's start with ***Label Encoding***\n",
    "and analysis which attributes we need and why\n",
    "1. ***accident_severity*** : this feature is a categorical one and has only 3 values that describes how danger was the accident, so assigning numerical value to it will help the machine to identify its meaning\n",
    "2. ***light_conditions*** : this feature is a categorical one and has only 5 values that describes the light intensity through the accident, so assigning numerical value to it will help the machine to identify its meaning\n",
    "3. ***weather_conditions***: this feature is a categorical one and has only 8 values that describes the weather through the accident, so assigning numerical value to it will help the machine to identify its meaning\n",
    "4. ***road_surface_conditions***: this feature is a categorical one and has only 5 values that describes the road surface through the accident, so assigning numerical value to it will help the machine to identify its meaning\n",
    "\n",
    "***We will give them values based on their meaning to avoid the machine encode which can lead to unreal numeric value***"
   ],
   "metadata": {
    "collapsed": false
   }
  },
  {
   "cell_type": "code",
   "execution_count": 38,
   "outputs": [
    {
     "name": "stdout",
     "output_type": "stream",
     "text": [
      "['Slight' 'Serious' 'Fatal']\n"
     ]
    }
   ],
   "source": [
    "print(ds_clean[\"accident_severity\"].unique())"
   ],
   "metadata": {
    "collapsed": false
   }
  },
  {
   "cell_type": "code",
   "execution_count": 39,
   "outputs": [
    {
     "name": "stdout",
     "output_type": "stream",
     "text": [
      "['Darkness - lights unlit' 'Darkness - lights lit' 'Daylight'\n",
      " 'Darkness - no lighting' 'Darkness - lighting unknown']\n"
     ]
    }
   ],
   "source": [
    "print(ds_clean[\"light_conditions\"].unique())"
   ],
   "metadata": {
    "collapsed": false
   }
  },
  {
   "cell_type": "code",
   "execution_count": 40,
   "outputs": [
    {
     "name": "stdout",
     "output_type": "stream",
     "text": [
      "['Fine no high winds' 'Raining no high winds' 'Fog or mist' 'Other'\n",
      " 'Fine + high winds' 'Raining + high winds' 'Snowing no high winds'\n",
      " 'Snowing + high winds']\n"
     ]
    }
   ],
   "source": [
    "print(ds_clean[\"weather_conditions\"].unique())"
   ],
   "metadata": {
    "collapsed": false
   }
  },
  {
   "cell_type": "code",
   "execution_count": 55,
   "outputs": [
    {
     "name": "stdout",
     "output_type": "stream",
     "text": [
      "['Dry' 'Wet or damp' 'Flood over 3cm. deep' 'Frost or ice' 'Snow']\n"
     ]
    }
   ],
   "source": [
    "print(ds_clean[\"road_surface_conditions\"].unique())"
   ],
   "metadata": {
    "collapsed": false
   }
  },
  {
   "cell_type": "code",
   "execution_count": 137,
   "outputs": [
    {
     "name": "stdout",
     "output_type": "stream",
     "text": [
      "['Yes' 'No']\n"
     ]
    }
   ],
   "source": [
    "print(ds_clean[\"did_police_officer_attend_scene_of_accident\"].unique())\n"
   ],
   "metadata": {
    "collapsed": false
   }
  },
  {
   "cell_type": "code",
   "execution_count": 138,
   "outputs": [
    {
     "name": "stdout",
     "output_type": "stream",
     "text": [
      "['Non-trunk' 'Trunk (Roads managed by Highways England)']\n"
     ]
    }
   ],
   "source": [
    "print(ds_clean[\"trunk_road_flag\"].unique())"
   ],
   "metadata": {
    "collapsed": false
   }
  },
  {
   "cell_type": "code",
   "execution_count": 139,
   "outputs": [],
   "source": [
    "label_encoded_values={'accident_severity':{'Slight':1,'Serious':2,'Fatal':3},\n",
    "                      'light_conditions':{'Daylight':1,'Darkness - lights lit':2, 'Darkness - lights unlit':3,'Darkness - no lighting':4,'Darkness - lighting unknown':0},\n",
    "                      'weather_conditions':{'Fine no high winds':1, 'Fine + high winds':2, 'Raining no high winds':3,'Raining + high winds':4, 'Snowing no high winds':5,'Snowing + high winds':6,'Fog or mist':7 ,'Other':0},\n",
    "                      'road_surface_conditions':{'Dry':1,'Wet or damp':2,'Flood over 3cm. deep':3,'Frost or ice':4,'Snow':5},\n",
    "                      'did_police_officer_attend_scene_of_accident':{'Yes':1,\"No\":0},\n",
    "                      'trunk_road_flag':{'Trunk (Roads managed by Highways England)':1,'Non-trunk':0}}"
   ],
   "metadata": {
    "collapsed": false
   }
  },
  {
   "cell_type": "code",
   "execution_count": 140,
   "metadata": {},
   "outputs": [],
   "source": [
    "# Function to encode categorical attributes in a given dataset as numbers\n",
    "def number_encode_features(df,label_encoded_values_replacement):\n",
    "    result = df.copy() # take a copy of the dataframe\n",
    "    return result.replace(label_encoded_values_replacement)"
   ]
  },
  {
   "cell_type": "code",
   "execution_count": 142,
   "metadata": {},
   "outputs": [
    {
     "data": {
      "text/plain": "        accident_severity  light_conditions  weather_conditions  \\\n136616                  1                 2                   1   \n136617                  1                 1                   1   \n136618                  1                 4                   1   \n136619                  1                 2                   1   \n136620                  1                 1                   4   \n\n        road_surface_conditions  did_police_officer_attend_scene_of_accident  \\\n136616                        2                                            1   \n136617                        1                                            1   \n136618                        2                                            1   \n136619                        1                                            1   \n136620                        2                                            1   \n\n        trunk_road_flag  \n136616                0  \n136617                0  \n136618                0  \n136619                0  \n136620                0  ",
      "text/html": "<div>\n<style scoped>\n    .dataframe tbody tr th:only-of-type {\n        vertical-align: middle;\n    }\n\n    .dataframe tbody tr th {\n        vertical-align: top;\n    }\n\n    .dataframe thead th {\n        text-align: right;\n    }\n</style>\n<table border=\"1\" class=\"dataframe\">\n  <thead>\n    <tr style=\"text-align: right;\">\n      <th></th>\n      <th>accident_severity</th>\n      <th>light_conditions</th>\n      <th>weather_conditions</th>\n      <th>road_surface_conditions</th>\n      <th>did_police_officer_attend_scene_of_accident</th>\n      <th>trunk_road_flag</th>\n    </tr>\n  </thead>\n  <tbody>\n    <tr>\n      <th>136616</th>\n      <td>1</td>\n      <td>2</td>\n      <td>1</td>\n      <td>2</td>\n      <td>1</td>\n      <td>0</td>\n    </tr>\n    <tr>\n      <th>136617</th>\n      <td>1</td>\n      <td>1</td>\n      <td>1</td>\n      <td>1</td>\n      <td>1</td>\n      <td>0</td>\n    </tr>\n    <tr>\n      <th>136618</th>\n      <td>1</td>\n      <td>4</td>\n      <td>1</td>\n      <td>2</td>\n      <td>1</td>\n      <td>0</td>\n    </tr>\n    <tr>\n      <th>136619</th>\n      <td>1</td>\n      <td>2</td>\n      <td>1</td>\n      <td>1</td>\n      <td>1</td>\n      <td>0</td>\n    </tr>\n    <tr>\n      <th>136620</th>\n      <td>1</td>\n      <td>1</td>\n      <td>4</td>\n      <td>2</td>\n      <td>1</td>\n      <td>0</td>\n    </tr>\n  </tbody>\n</table>\n</div>"
     },
     "execution_count": 142,
     "metadata": {},
     "output_type": "execute_result"
    }
   ],
   "source": [
    "# Apply function defined above to accidents dataset\n",
    "encoded_data = number_encode_features(ds_clean,label_encoded_values)\n",
    "\n",
    "# Display last 5 records in transformed dataset to verify numerical transformation\n",
    "encoded_data.loc[:,[\"accident_severity\",\"light_conditions\",'weather_conditions',\"road_surface_conditions\",\"did_police_officer_attend_scene_of_accident\",\"trunk_road_flag\"]].tail(5)"
   ]
  },
  {
   "cell_type": "code",
   "execution_count": 143,
   "outputs": [],
   "source": [
    "#this function working on saving the label encoded dataset columns in a new csv\n",
    "def save_label_encoded_columns_to_csv(column1_name,column2_name,column1_df,column2_df,csv_name):\n",
    "    temp= pd.DataFrame()\n",
    "    temp[column1_name]=column1_df\n",
    "    temp[column2_name]=column2_df\n",
    "    temp.to_csv(csv_name)"
   ],
   "metadata": {
    "collapsed": false
   }
  },
  {
   "cell_type": "code",
   "execution_count": 144,
   "outputs": [],
   "source": [
    "save_label_encoded_columns_to_csv(\"accident_severity\",\"accident_severity_encoded\",ds_clean.accident_severity,encoded_data.accident_severity,'./label_encoded/'+\"accident_severity_label_encoded\")\n",
    "save_label_encoded_columns_to_csv(\"light_conditions\",\"light_conditions_encoded\",ds_clean.light_conditions,encoded_data.light_conditions,'./label_encoded/'+\"light_conditions_label_encoded\")\n",
    "save_label_encoded_columns_to_csv(\"weather_conditions\",\"weather_conditions_encoded\",ds_clean.weather_conditions,encoded_data.weather_conditions,'./label_encoded/'+\"weather_conditions_label_encoded\")\n",
    "save_label_encoded_columns_to_csv(\"road_surface_conditions\",\"road_surface_conditions_encoded\",ds_clean.road_surface_conditions,encoded_data.road_surface_conditions,'./label_encoded/'+\"road_surface_conditions_label_encoded\")\n",
    "save_label_encoded_columns_to_csv(\"did_police_officer_attend_scene_of_accident\",\"did_police_officer_attend_scene_of_accident_encoded\",ds_clean.did_police_officer_attend_scene_of_accident,encoded_data.did_police_officer_attend_scene_of_accident,'./label_encoded/'+\"did_police_officer_attend_scene_of_accident_label_encoded\")\n",
    "save_label_encoded_columns_to_csv(\"trunk_road_flag\",\"trunk_road_flag_encoded\",ds_clean.trunk_road_flag,encoded_data.trunk_road_flag,'./label_encoded/'+\"trunk_road_flag_label_encoded\")"
   ],
   "metadata": {
    "collapsed": false
   }
  },
  {
   "cell_type": "markdown",
   "source": [
    "Now let's jump to the other type of encoding which is ***one_hot_encoding*** we will apply it on other categorical data that we didn't include in the label encoding\n"
   ],
   "metadata": {
    "collapsed": false
   }
  },
  {
   "cell_type": "markdown",
   "source": [
    "***First Step***: we should first define which columns we will apply one hot encoding on it, we will do that by including dtype='object' only"
   ],
   "metadata": {
    "collapsed": false
   }
  },
  {
   "cell_type": "code",
   "execution_count": 145,
   "outputs": [],
   "source": [
    "encoded_data=encoded_data.drop(['accident_reference', 'lsoa_of_accident_location','date','time'], axis=1)"
   ],
   "metadata": {
    "collapsed": false
   }
  },
  {
   "cell_type": "code",
   "execution_count": 146,
   "outputs": [],
   "source": [
    "def get_categorical_data(df):\n",
    "    return df.select_dtypes(include = \"object\").columns.tolist()"
   ],
   "metadata": {
    "collapsed": false
   }
  },
  {
   "cell_type": "code",
   "execution_count": 147,
   "outputs": [
    {
     "name": "stdout",
     "output_type": "stream",
     "text": [
      "['police_force', 'day_of_week', 'local_authority_district', 'local_authority_ons_district', 'local_authority_highway', 'first_road_class', 'first_road_number', 'road_type', 'junction_detail', 'junction_control', 'second_road_class', 'second_road_number', 'pedestrian_crossing_human_control', 'pedestrian_crossing_physical_facilities', 'special_conditions_at_site', 'carriageway_hazards', 'urban_or_rural_area']\n"
     ]
    }
   ],
   "source": [
    "print(get_categorical_data(encoded_data))"
   ],
   "metadata": {
    "collapsed": false
   }
  },
  {
   "cell_type": "markdown",
   "source": [
    "***Second Step***: we will loop over the selected features and apply one hot encode only to the top 10 freq values in them"
   ],
   "metadata": {
    "collapsed": false
   }
  },
  {
   "cell_type": "code",
   "execution_count": 148,
   "outputs": [],
   "source": [
    "# calculate top categories of variable in a dataframe\n",
    "def calculate_top_categories(df, variable, how_many):\n",
    "    return [\n",
    "        x for x in df[variable].value_counts().sort_values(\n",
    "            ascending=False).head(how_many).index\n",
    "    ]\n",
    "\n",
    "#apply one hot encode to the top_x_labels of variable of a dataframe and save them in a csv file on disk\n",
    "def one_hot_encode(df, variable, top_x_labels):\n",
    "    df_temp = pd.DataFrame()\n",
    "    for label in top_x_labels:\n",
    "        df_temp[label] = np.where(\n",
    "            df[variable] == label, 1, 0)\n",
    "    df_temp.to_csv(r\"./OneHotEncoded/\"+variable, sep='\\t')\n",
    "\n",
    "def apply_one_hot_encode_on_df(df):\n",
    "    features=get_categorical_data(df)\n",
    "    for feature in features:\n",
    "        top_x_labels=calculate_top_categories(df,feature,10) #10 maximum\n",
    "        one_hot_encode(df,feature,top_x_labels)"
   ],
   "metadata": {
    "collapsed": false
   }
  },
  {
   "cell_type": "code",
   "execution_count": 149,
   "outputs": [],
   "source": [
    "apply_one_hot_encode_on_df(encoded_data.copy())"
   ],
   "metadata": {
    "collapsed": false
   }
  },
  {
   "cell_type": "markdown",
   "source": [
    "## 4.22 - Findings and conlcusions"
   ],
   "metadata": {
    "collapsed": false
   }
  },
  {
   "cell_type": "markdown",
   "source": [
    "***Label encoding***\n",
    "- Pros:\n",
    "    1. Straightforward to implement\n",
    "    2. Does not expand the feature space\n",
    "- cons:\n",
    "  should be used with high precautions, we should try to get the best features that suitable for it and not run a general encoding to avoid such this mistake:\n",
    "The problem using the number is that they introduce relation/comparison between them. Let’s consider another column named ‘Safety Level’ that has the values none < low < medium < high < very high. Performing label encoding of this column also induces order/precedence in number, but in the right way. Here the numerical order does not look out-of-box and it makes sense if the algorithm interprets safety order 0 < 1 < 2 < 3 < 4 i.e. none < low < medium < high < very high.\n",
    "\n",
    "***One hot encoding***\n",
    "- Pros:\n",
    "    1. Does not add any information that may make the variable more predictive\n",
    "    2. Does not keep the information of the ignored labels\n",
    "- Cons:\n",
    "    1. Memory consumption for large attributes\n",
    "    2. When we're applying a threshold to avoid the first one, we have another limitations like:\n",
    "       - Does not add any information that may make the variable more predictive\n",
    "        - Does not keep the information of the ignored labels"
   ],
   "metadata": {
    "collapsed": false
   }
  },
  {
   "cell_type": "markdown",
   "metadata": {},
   "source": [
    "## 4.3 - Normalisation"
   ]
  },
  {
   "cell_type": "markdown",
   "source": [],
   "metadata": {
    "collapsed": false
   }
  },
  {
   "cell_type": "code",
   "execution_count": 92,
   "metadata": {},
   "outputs": [
    {
     "name": "stderr",
     "output_type": "stream",
     "text": [
      "C:\\Users\\lenovo\\AppData\\Local\\Temp\\ipykernel_9116\\3521601397.py:2: UserWarning: \n",
      "\n",
      "`distplot` is a deprecated function and will be removed in seaborn v0.14.0.\n",
      "\n",
      "Please adapt your code to use either `displot` (a figure-level function with\n",
      "similar flexibility) or `histplot` (an axes-level function for histograms).\n",
      "\n",
      "For a guide to updating your code to use the new functions, please see\n",
      "https://gist.github.com/mwaskom/de44147ed2974457ad6372750bbe5751\n",
      "\n",
      "  sns.distplot(dataset[\"longitude\"], ax=ax[0])\n",
      "C:\\Users\\lenovo\\AppData\\Local\\Temp\\ipykernel_9116\\3521601397.py:4: UserWarning: \n",
      "\n",
      "`distplot` is a deprecated function and will be removed in seaborn v0.14.0.\n",
      "\n",
      "Please adapt your code to use either `displot` (a figure-level function with\n",
      "similar flexibility) or `histplot` (an axes-level function for histograms).\n",
      "\n",
      "For a guide to updating your code to use the new functions, please see\n",
      "https://gist.github.com/mwaskom/de44147ed2974457ad6372750bbe5751\n",
      "\n",
      "  sns.distplot(dataset[\"latitude\"], ax=ax[1])\n"
     ]
    },
    {
     "data": {
      "text/plain": "<Figure size 432x288 with 2 Axes>",
      "image/png": "[encoded data removed]"
     },
     "metadata": {
      "needs_background": "light"
     },
     "output_type": "display_data"
    }
   ],
   "source": [
    "fig, ax=plt.subplots(1,2)\n",
    "sns.distplot(ds_clean[\"longitude\"], ax=ax[0])\n",
    "ax[0].set_title(\"longitude scale data\")\n",
    "sns.distplot(ds_clean[\"latitude\"], ax=ax[1])\n",
    "ax[1].set_title(\"latitude scale data\")\n",
    "plt.show()"
   ]
  },
  {
   "cell_type": "code",
   "execution_count": 93,
   "metadata": {},
   "outputs": [
    {
     "data": {
      "text/plain": "           longitude       latitude\ncount  135298.000000  135298.000000\nmean       -1.311062      52.486391\nstd         1.401275       1.418685\nmin        -7.389809      49.919716\n25%        -2.212812      51.473065\n50%        -1.209135      52.029078\n75%        -0.162852      53.407116\nmax         1.757858      60.490191",
      "text/html": "<div>\n<style scoped>\n    .dataframe tbody tr th:only-of-type {\n        vertical-align: middle;\n    }\n\n    .dataframe tbody tr th {\n        vertical-align: top;\n    }\n\n    .dataframe thead th {\n        text-align: right;\n    }\n</style>\n<table border=\"1\" class=\"dataframe\">\n  <thead>\n    <tr style=\"text-align: right;\">\n      <th></th>\n      <th>longitude</th>\n      <th>latitude</th>\n    </tr>\n  </thead>\n  <tbody>\n    <tr>\n      <th>count</th>\n      <td>135298.000000</td>\n      <td>135298.000000</td>\n    </tr>\n    <tr>\n      <th>mean</th>\n      <td>-1.311062</td>\n      <td>52.486391</td>\n    </tr>\n    <tr>\n      <th>std</th>\n      <td>1.401275</td>\n      <td>1.418685</td>\n    </tr>\n    <tr>\n      <th>min</th>\n      <td>-7.389809</td>\n      <td>49.919716</td>\n    </tr>\n    <tr>\n      <th>25%</th>\n      <td>-2.212812</td>\n      <td>51.473065</td>\n    </tr>\n    <tr>\n      <th>50%</th>\n      <td>-1.209135</td>\n      <td>52.029078</td>\n    </tr>\n    <tr>\n      <th>75%</th>\n      <td>-0.162852</td>\n      <td>53.407116</td>\n    </tr>\n    <tr>\n      <th>max</th>\n      <td>1.757858</td>\n      <td>60.490191</td>\n    </tr>\n  </tbody>\n</table>\n</div>"
     },
     "execution_count": 93,
     "metadata": {},
     "output_type": "execute_result"
    }
   ],
   "source": [
    "ds_clean.loc[:,[\"longitude\",\"latitude\"]].describe()"
   ]
  },
  {
   "cell_type": "markdown",
   "source": [
    "As we can notice the longitude and latitude have different scale, so we should rescale them into the same range to have the same effect when feeding\n",
    "into a machine learning model"
   ],
   "metadata": {
    "collapsed": false
   }
  },
  {
   "cell_type": "markdown",
   "source": [
    "Now we will renormalize them using Scaling technique to have a range between 0 and 1"
   ],
   "metadata": {
    "collapsed": false
   }
  },
  {
   "cell_type": "code",
   "execution_count": 94,
   "outputs": [],
   "source": [
    "longitude_after_scaling,latitude_after_scaling =  MinMaxScaler().fit_transform(ds_clean[[\"longitude\"]]),MinMaxScaler().fit_transform(ds_clean[[\"latitude\"]])"
   ],
   "metadata": {
    "collapsed": false
   }
  },
  {
   "cell_type": "markdown",
   "metadata": {},
   "source": [
    "## 4.31 - Findings and conclusions"
   ]
  },
  {
   "cell_type": "code",
   "execution_count": 95,
   "metadata": {},
   "outputs": [
    {
     "name": "stderr",
     "output_type": "stream",
     "text": [
      "C:\\Users\\lenovo\\AppData\\Local\\Temp\\ipykernel_9116\\3290736395.py:2: UserWarning: \n",
      "\n",
      "`distplot` is a deprecated function and will be removed in seaborn v0.14.0.\n",
      "\n",
      "Please adapt your code to use either `displot` (a figure-level function with\n",
      "similar flexibility) or `histplot` (an axes-level function for histograms).\n",
      "\n",
      "For a guide to updating your code to use the new functions, please see\n",
      "https://gist.github.com/mwaskom/de44147ed2974457ad6372750bbe5751\n",
      "\n",
      "  sns.distplot(longitude_after_scaling, ax=ax[0])\n",
      "C:\\Users\\lenovo\\AppData\\Local\\Temp\\ipykernel_9116\\3290736395.py:4: UserWarning: \n",
      "\n",
      "`distplot` is a deprecated function and will be removed in seaborn v0.14.0.\n",
      "\n",
      "Please adapt your code to use either `displot` (a figure-level function with\n",
      "similar flexibility) or `histplot` (an axes-level function for histograms).\n",
      "\n",
      "For a guide to updating your code to use the new functions, please see\n",
      "https://gist.github.com/mwaskom/de44147ed2974457ad6372750bbe5751\n",
      "\n",
      "  sns.distplot(latitude_after_scaling, ax=ax[1])\n"
     ]
    },
    {
     "data": {
      "text/plain": "<Figure size 432x288 with 2 Axes>",
      "image/png": "[encoded data removed]"
     },
     "metadata": {
      "needs_background": "light"
     },
     "output_type": "display_data"
    }
   ],
   "source": [
    "fig, ax=plt.subplots(1,2)\n",
    "sns.distplot(longitude_after_scaling, ax=ax[0])\n",
    "ax[0].set_title(\"longitude after scale\")\n",
    "sns.distplot(latitude_after_scaling, ax=ax[1])\n",
    "ax[1].set_title(\"latitude after scale\")\n",
    "plt.show()"
   ]
  },
  {
   "cell_type": "markdown",
   "source": [
    "***Scaling in a very important step in norimlizing data***\n",
    "- Scaling is used to make all features contribute the same amount in prediction.\n",
    "- Scaling makes the algorithms converge faster since it transform the variable space in to a much smaller range."
   ],
   "metadata": {
    "collapsed": false
   }
  },
  {
   "cell_type": "code",
   "execution_count": 120,
   "outputs": [],
   "source": [
    "#saving new scaling values in a new data frame\n",
    "temp_df=pd.DataFrame()\n",
    "temp_df[\"longitude\"]=longitude_after_scaling.tolist()\n",
    "temp_df[\"latitude\"]=latitude_after_scaling.tolist()\n",
    "save_label_encoded_columns_to_csv(\"longitude\",\"latitude\",temp_df.longitude,temp_df.latitude,\"./norimlization/longitude_latitude_after_scaling\")"
   ],
   "metadata": {
    "collapsed": false
   }
  },
  {
   "cell_type": "markdown",
   "metadata": {},
   "source": [
    "## 4.4 - Adding more columns"
   ]
  },
  {
   "cell_type": "markdown",
   "source": [
    "The data we have, we can make best use of it, by extracting new attributes from it.\n",
    "***We could detect a new column that shows whether the accident happened on the weekend(1) or not(0)***"
   ],
   "metadata": {
    "collapsed": false
   }
  },
  {
   "cell_type": "code",
   "execution_count": 121,
   "metadata": {},
   "outputs": [
    {
     "data": {
      "text/plain": "       day_of_week  accident_on_weekend\n136616      Friday                    0\n136617     Tuesday                    0\n136618    Thursday                    0\n136619    Saturday                    1\n136620      Sunday                    1",
      "text/html": "<div>\n<style scoped>\n    .dataframe tbody tr th:only-of-type {\n        vertical-align: middle;\n    }\n\n    .dataframe tbody tr th {\n        vertical-align: top;\n    }\n\n    .dataframe thead th {\n        text-align: right;\n    }\n</style>\n<table border=\"1\" class=\"dataframe\">\n  <thead>\n    <tr style=\"text-align: right;\">\n      <th></th>\n      <th>day_of_week</th>\n      <th>accident_on_weekend</th>\n    </tr>\n  </thead>\n  <tbody>\n    <tr>\n      <th>136616</th>\n      <td>Friday</td>\n      <td>0</td>\n    </tr>\n    <tr>\n      <th>136617</th>\n      <td>Tuesday</td>\n      <td>0</td>\n    </tr>\n    <tr>\n      <th>136618</th>\n      <td>Thursday</td>\n      <td>0</td>\n    </tr>\n    <tr>\n      <th>136619</th>\n      <td>Saturday</td>\n      <td>1</td>\n    </tr>\n    <tr>\n      <th>136620</th>\n      <td>Sunday</td>\n      <td>1</td>\n    </tr>\n  </tbody>\n</table>\n</div>"
     },
     "execution_count": 121,
     "metadata": {},
     "output_type": "execute_result"
    }
   ],
   "source": [
    "ds_clean[\"accident_on_weekend\"]= np.where((ds_clean[\"day_of_week\"] ==\"Saturday\") |  (ds_clean[\"day_of_week\"] == \"Sunday\"), 1, 0)\n",
    "ds_clean.loc[:,[\"day_of_week\",\"accident_on_weekend\"]].tail(5)"
   ]
  },
  {
   "cell_type": "markdown",
   "source": [
    "***We can also extract when the accident happened using the feature time to detect weather Morning, Afternoon, Evening and Night***"
   ],
   "metadata": {
    "collapsed": false
   }
  },
  {
   "cell_type": "code",
   "execution_count": 122,
   "metadata": {},
   "outputs": [
    {
     "data": {
      "text/plain": "            time   day_time\n136616  06:45:00    Morning\n136617  16:45:00  Afternoon\n136618  07:10:00    Morning\n136619  20:00:00      Night\n136620  12:30:00  Afternoon",
      "text/html": "<div>\n<style scoped>\n    .dataframe tbody tr th:only-of-type {\n        vertical-align: middle;\n    }\n\n    .dataframe tbody tr th {\n        vertical-align: top;\n    }\n\n    .dataframe thead th {\n        text-align: right;\n    }\n</style>\n<table border=\"1\" class=\"dataframe\">\n  <thead>\n    <tr style=\"text-align: right;\">\n      <th></th>\n      <th>time</th>\n      <th>day_time</th>\n    </tr>\n  </thead>\n  <tbody>\n    <tr>\n      <th>136616</th>\n      <td>06:45:00</td>\n      <td>Morning</td>\n    </tr>\n    <tr>\n      <th>136617</th>\n      <td>16:45:00</td>\n      <td>Afternoon</td>\n    </tr>\n    <tr>\n      <th>136618</th>\n      <td>07:10:00</td>\n      <td>Morning</td>\n    </tr>\n    <tr>\n      <th>136619</th>\n      <td>20:00:00</td>\n      <td>Night</td>\n    </tr>\n    <tr>\n      <th>136620</th>\n      <td>12:30:00</td>\n      <td>Afternoon</td>\n    </tr>\n  </tbody>\n</table>\n</div>"
     },
     "execution_count": 122,
     "metadata": {},
     "output_type": "execute_result"
    }
   ],
   "source": [
    "# converting time Object format to datetime format\n",
    "ds_clean['time'] = pd.to_datetime(ds_clean['time'],format= '%H:%M')\n",
    "ds_clean.loc[ds_clean['time'].dt.hour<12, ['day_time']] = 'Morning'\n",
    "ds_clean.loc[(ds_clean['time'].dt.hour>=12) & (ds_clean['time'].dt.hour<19), ['day_time']] = 'Afternoon'\n",
    "ds_clean.loc[(ds_clean['time'].dt.hour>=19) & (ds_clean['time'].dt.hour<19), ['day_time']] = 'Evening'\n",
    "ds_clean.loc[(ds_clean['time'].dt.hour>=19) & (ds_clean['time'].dt.hour<24), ['day_time']] = 'Night'\n",
    "ds_clean['time'] = pd.to_datetime(ds_clean['time'],format= '%H:%M:%S').dt.time\n",
    "ds_clean.loc[:,[\"time\",\"day_time\"]].tail(5)"
   ]
  },
  {
   "cell_type": "markdown",
   "source": [
    "## 4.41 - Findings and concluisons"
   ],
   "metadata": {
    "collapsed": false
   }
  },
  {
   "cell_type": "markdown",
   "source": [
    "Feature Extraction aims to reduce the number of features in a dataset by creating new features from the existing ones (and then discarding the original features). These new reduced set of features should then be able to summarize most of the information contained in the original set of features."
   ],
   "metadata": {
    "collapsed": false
   }
  },
  {
   "cell_type": "markdown",
   "metadata": {},
   "source": [
    "## 4.5 - Csv file for lookup"
   ]
  },
  {
   "cell_type": "code",
   "execution_count": 123,
   "metadata": {},
   "outputs": [],
   "source": [
    "# let's save our final dataset into a new one after cleaning and applying transormation\n",
    "ds_clean.to_csv(\"final_accidents_uk\")"
   ]
  },
  {
   "cell_type": "markdown",
   "metadata": {},
   "source": [
    "## 5- Exporting the dataframe to a csv file or parquet"
   ]
  },
  {
   "cell_type": "code",
   "execution_count": 150,
   "metadata": {},
   "outputs": [
    {
     "name": "stderr",
     "output_type": "stream",
     "text": [
      "C:\\Users\\lenovo\\AppData\\Local\\Temp\\ipykernel_9116\\3227635063.py:1: DtypeWarning: Columns (32) have mixed types. Specify dtype option on import or set low_memory=False.\n",
      "  df = pd.read_csv('final_accidents_uk',index_col=0)\n"
     ]
    }
   ],
   "source": [
    "df = pd.read_csv('final_accidents_uk',index_col=0)\n",
    "df.astype(str).to_parquet('final_accidents_uk.parquet')"
   ]
  },
  {
   "cell_type": "code",
   "execution_count": 151,
   "outputs": [
    {
     "data": {
      "text/plain": "  accident_reference  longitude   latitude         police_force  \\\n0          010000005  -0.279323  51.584754  Metropolitan Police   \n1          010000006   0.184928  51.449595  Metropolitan Police   \n2          010000008  -0.473837  51.543563  Metropolitan Police   \n3          010000016  -0.164442  51.404958  Metropolitan Police   \n4          010000018   -0.40658  51.483139  Metropolitan Police   \n\n  accident_severity number_of_vehicles number_of_casualties        date  \\\n0            Slight                  2                    1  01/11/2016   \n1            Slight                  1                    1  01/11/2016   \n2            Slight                  1                    1  01/11/2016   \n3            Slight                  1                    1  01/11/2016   \n4            Slight                  2                    1  01/11/2016   \n\n  day_of_week      time  ... road_surface_conditions  \\\n0     Tuesday  02:30:00  ...                     Dry   \n1     Tuesday  00:37:00  ...                     Dry   \n2     Tuesday  01:25:00  ...                     Dry   \n3     Tuesday  09:15:00  ...                     Dry   \n4     Tuesday  07:53:00  ...                     Dry   \n\n  special_conditions_at_site carriageway_hazards urban_or_rural_area  \\\n0                       None                None               Urban   \n1                       None                None               Urban   \n2                       None                None               Urban   \n3                       None                None               Urban   \n4                       None                None               Urban   \n\n  did_police_officer_attend_scene_of_accident trunk_road_flag  \\\n0                                         Yes       Non-trunk   \n1                                         Yes       Non-trunk   \n2                                         Yes       Non-trunk   \n3                                         Yes       Non-trunk   \n4                                         Yes       Non-trunk   \n\n  lsoa_of_accident_location Week number accident_on_weekend day_time  \n0                 E01000543          44                   0  Morning  \n1                 E01000375          44                   0  Morning  \n2                 E01033725          44                   0  Morning  \n3                 E01003379          44                   0  Morning  \n4                 E01002583          44                   0  Morning  \n\n[5 rows x 35 columns]",
      "text/html": "<div>\n<style scoped>\n    .dataframe tbody tr th:only-of-type {\n        vertical-align: middle;\n    }\n\n    .dataframe tbody tr th {\n        vertical-align: top;\n    }\n\n    .dataframe thead th {\n        text-align: right;\n    }\n</style>\n<table border=\"1\" class=\"dataframe\">\n  <thead>\n    <tr style=\"text-align: right;\">\n      <th></th>\n      <th>accident_reference</th>\n      <th>longitude</th>\n      <th>latitude</th>\n      <th>police_force</th>\n      <th>accident_severity</th>\n      <th>number_of_vehicles</th>\n      <th>number_of_casualties</th>\n      <th>date</th>\n      <th>day_of_week</th>\n      <th>time</th>\n      <th>...</th>\n      <th>road_surface_conditions</th>\n      <th>special_conditions_at_site</th>\n      <th>carriageway_hazards</th>\n      <th>urban_or_rural_area</th>\n      <th>did_police_officer_attend_scene_of_accident</th>\n      <th>trunk_road_flag</th>\n      <th>lsoa_of_accident_location</th>\n      <th>Week number</th>\n      <th>accident_on_weekend</th>\n      <th>day_time</th>\n    </tr>\n  </thead>\n  <tbody>\n    <tr>\n      <th>0</th>\n      <td>010000005</td>\n      <td>-0.279323</td>\n      <td>51.584754</td>\n      <td>Metropolitan Police</td>\n      <td>Slight</td>\n      <td>2</td>\n      <td>1</td>\n      <td>01/11/2016</td>\n      <td>Tuesday</td>\n      <td>02:30:00</td>\n      <td>...</td>\n      <td>Dry</td>\n      <td>None</td>\n      <td>None</td>\n      <td>Urban</td>\n      <td>Yes</td>\n      <td>Non-trunk</td>\n      <td>E01000543</td>\n      <td>44</td>\n      <td>0</td>\n      <td>Morning</td>\n    </tr>\n    <tr>\n      <th>1</th>\n      <td>010000006</td>\n      <td>0.184928</td>\n      <td>51.449595</td>\n      <td>Metropolitan Police</td>\n      <td>Slight</td>\n      <td>1</td>\n      <td>1</td>\n      <td>01/11/2016</td>\n      <td>Tuesday</td>\n      <td>00:37:00</td>\n      <td>...</td>\n      <td>Dry</td>\n      <td>None</td>\n      <td>None</td>\n      <td>Urban</td>\n      <td>Yes</td>\n      <td>Non-trunk</td>\n      <td>E01000375</td>\n      <td>44</td>\n      <td>0</td>\n      <td>Morning</td>\n    </tr>\n    <tr>\n      <th>2</th>\n      <td>010000008</td>\n      <td>-0.473837</td>\n      <td>51.543563</td>\n      <td>Metropolitan Police</td>\n      <td>Slight</td>\n      <td>1</td>\n      <td>1</td>\n      <td>01/11/2016</td>\n      <td>Tuesday</td>\n      <td>01:25:00</td>\n      <td>...</td>\n      <td>Dry</td>\n      <td>None</td>\n      <td>None</td>\n      <td>Urban</td>\n      <td>Yes</td>\n      <td>Non-trunk</td>\n      <td>E01033725</td>\n      <td>44</td>\n      <td>0</td>\n      <td>Morning</td>\n    </tr>\n    <tr>\n      <th>3</th>\n      <td>010000016</td>\n      <td>-0.164442</td>\n      <td>51.404958</td>\n      <td>Metropolitan Police</td>\n      <td>Slight</td>\n      <td>1</td>\n      <td>1</td>\n      <td>01/11/2016</td>\n      <td>Tuesday</td>\n      <td>09:15:00</td>\n      <td>...</td>\n      <td>Dry</td>\n      <td>None</td>\n      <td>None</td>\n      <td>Urban</td>\n      <td>Yes</td>\n      <td>Non-trunk</td>\n      <td>E01003379</td>\n      <td>44</td>\n      <td>0</td>\n      <td>Morning</td>\n    </tr>\n    <tr>\n      <th>4</th>\n      <td>010000018</td>\n      <td>-0.40658</td>\n      <td>51.483139</td>\n      <td>Metropolitan Police</td>\n      <td>Slight</td>\n      <td>2</td>\n      <td>1</td>\n      <td>01/11/2016</td>\n      <td>Tuesday</td>\n      <td>07:53:00</td>\n      <td>...</td>\n      <td>Dry</td>\n      <td>None</td>\n      <td>None</td>\n      <td>Urban</td>\n      <td>Yes</td>\n      <td>Non-trunk</td>\n      <td>E01002583</td>\n      <td>44</td>\n      <td>0</td>\n      <td>Morning</td>\n    </tr>\n  </tbody>\n</table>\n<p>5 rows × 35 columns</p>\n</div>"
     },
     "execution_count": 151,
     "metadata": {},
     "output_type": "execute_result"
    }
   ],
   "source": [
    "df=pd.read_parquet('final_accidents_uk.parquet')\n",
    "df.head(5)"
   ],
   "metadata": {
    "collapsed": false
   }
  },
  {
   "cell_type": "code",
   "execution_count": null,
   "outputs": [],
   "source": [],
   "metadata": {
    "collapsed": false
   }
  }
 ],
 "metadata": {
  "kernelspec": {
   "display_name": "Python 3 (ipykernel)",
   "language": "python",
   "name": "python3"
  },
  "language_info": {
   "codemirror_mode": {
    "name": "ipython",
    "version": 3
   },
   "file_extension": ".py",
   "mimetype": "text/x-python",
   "name": "python",
   "nbconvert_exporter": "python",
   "pygments_lexer": "ipython3",
   "version": "3.10.4"
  },
  "vscode": {
   "interpreter": {
    "hash": "347931c39d20c80347bba0ccb37da6e5177e4767724cf350b2ca0ccdf14bccb1"
   }
  }
 },
 "nbformat": 4,
 "nbformat_minor": 4
}
