{
 "cells": [
  {
   "cell_type": "markdown",
   "metadata": {},
   "source": [
    "# Loading the clean dataset"
   ]
  },
  {
   "cell_type": "markdown",
   "metadata": {},
   "source": [
    "Import required libraries"
   ]
  },
  {
   "cell_type": "code",
   "execution_count": 2,
   "metadata": {},
   "outputs": [],
   "source": [
    "import pandas as pd\n",
    "import numpy as np"
   ]
  },
  {
   "cell_type": "code",
   "execution_count": 3,
   "metadata": {},
   "outputs": [
    {
     "data": {
      "text/plain": "   Unnamed: 0 accident_reference  location_easting_osgr  \\\n0           0          010000005               519310.0   \n1           1          010000006               551920.0   \n2           2          010000008               505930.0   \n3           3          010000016               527770.0   \n4           4          010000018               510740.0   \n\n   location_northing_osgr  longitude   latitude         police_force  \\\n0                188730.0  -0.279323  51.584754  Metropolitan Police   \n1                174560.0   0.184928  51.449595  Metropolitan Police   \n2                183850.0  -0.473837  51.543563  Metropolitan Police   \n3                168930.0  -0.164442  51.404958  Metropolitan Police   \n4                177230.0  -0.406580  51.483139  Metropolitan Police   \n\n  accident_severity  number_of_vehicles  number_of_casualties  ...  \\\n0            Slight                   2                     1  ...   \n1            Slight                   1                     1  ...   \n2            Slight                   1                     1  ...   \n3            Slight                   1                     1  ...   \n4            Slight                   2                     1  ...   \n\n            pedestrian_crossing_physical_facilities         light_conditions  \\\n0  No physical crossing facilities within 50 metres  Darkness - lights unlit   \n1  No physical crossing facilities within 50 metres    Darkness - lights lit   \n2  No physical crossing facilities within 50 metres    Darkness - lights lit   \n3  No physical crossing facilities within 50 metres                 Daylight   \n4  No physical crossing facilities within 50 metres                 Daylight   \n\n   weather_conditions road_surface_conditions special_conditions_at_site  \\\n0  Fine no high winds                     Dry                       None   \n1  Fine no high winds                     Dry                       None   \n2  Fine no high winds                     Dry                       None   \n3  Fine no high winds                     Dry                       None   \n4  Fine no high winds                     Dry                       None   \n\n  carriageway_hazards urban_or_rural_area  \\\n0                None               Urban   \n1                None               Urban   \n2                None               Urban   \n3                None               Urban   \n4                None               Urban   \n\n  did_police_officer_attend_scene_of_accident trunk_road_flag  \\\n0                                         Yes       Non-trunk   \n1                                         Yes       Non-trunk   \n2                                         Yes       Non-trunk   \n3                                         Yes       Non-trunk   \n4                                         Yes       Non-trunk   \n\n   lsoa_of_accident_location  \n0                  E01000543  \n1                  E01000375  \n2                  E01033725  \n3                  E01003379  \n4                  E01002583  \n\n[5 rows x 35 columns]",
      "text/html": "<div>\n<style scoped>\n    .dataframe tbody tr th:only-of-type {\n        vertical-align: middle;\n    }\n\n    .dataframe tbody tr th {\n        vertical-align: top;\n    }\n\n    .dataframe thead th {\n        text-align: right;\n    }\n</style>\n<table border=\"1\" class=\"dataframe\">\n  <thead>\n    <tr style=\"text-align: right;\">\n      <th></th>\n      <th>Unnamed: 0</th>\n      <th>accident_reference</th>\n      <th>location_easting_osgr</th>\n      <th>location_northing_osgr</th>\n      <th>longitude</th>\n      <th>latitude</th>\n      <th>police_force</th>\n      <th>accident_severity</th>\n      <th>number_of_vehicles</th>\n      <th>number_of_casualties</th>\n      <th>...</th>\n      <th>pedestrian_crossing_physical_facilities</th>\n      <th>light_conditions</th>\n      <th>weather_conditions</th>\n      <th>road_surface_conditions</th>\n      <th>special_conditions_at_site</th>\n      <th>carriageway_hazards</th>\n      <th>urban_or_rural_area</th>\n      <th>did_police_officer_attend_scene_of_accident</th>\n      <th>trunk_road_flag</th>\n      <th>lsoa_of_accident_location</th>\n    </tr>\n  </thead>\n  <tbody>\n    <tr>\n      <th>0</th>\n      <td>0</td>\n      <td>010000005</td>\n      <td>519310.0</td>\n      <td>188730.0</td>\n      <td>-0.279323</td>\n      <td>51.584754</td>\n      <td>Metropolitan Police</td>\n      <td>Slight</td>\n      <td>2</td>\n      <td>1</td>\n      <td>...</td>\n      <td>No physical crossing facilities within 50 metres</td>\n      <td>Darkness - lights unlit</td>\n      <td>Fine no high winds</td>\n      <td>Dry</td>\n      <td>None</td>\n      <td>None</td>\n      <td>Urban</td>\n      <td>Yes</td>\n      <td>Non-trunk</td>\n      <td>E01000543</td>\n    </tr>\n    <tr>\n      <th>1</th>\n      <td>1</td>\n      <td>010000006</td>\n      <td>551920.0</td>\n      <td>174560.0</td>\n      <td>0.184928</td>\n      <td>51.449595</td>\n      <td>Metropolitan Police</td>\n      <td>Slight</td>\n      <td>1</td>\n      <td>1</td>\n      <td>...</td>\n      <td>No physical crossing facilities within 50 metres</td>\n      <td>Darkness - lights lit</td>\n      <td>Fine no high winds</td>\n      <td>Dry</td>\n      <td>None</td>\n      <td>None</td>\n      <td>Urban</td>\n      <td>Yes</td>\n      <td>Non-trunk</td>\n      <td>E01000375</td>\n    </tr>\n    <tr>\n      <th>2</th>\n      <td>2</td>\n      <td>010000008</td>\n      <td>505930.0</td>\n      <td>183850.0</td>\n      <td>-0.473837</td>\n      <td>51.543563</td>\n      <td>Metropolitan Police</td>\n      <td>Slight</td>\n      <td>1</td>\n      <td>1</td>\n      <td>...</td>\n      <td>No physical crossing facilities within 50 metres</td>\n      <td>Darkness - lights lit</td>\n      <td>Fine no high winds</td>\n      <td>Dry</td>\n      <td>None</td>\n      <td>None</td>\n      <td>Urban</td>\n      <td>Yes</td>\n      <td>Non-trunk</td>\n      <td>E01033725</td>\n    </tr>\n    <tr>\n      <th>3</th>\n      <td>3</td>\n      <td>010000016</td>\n      <td>527770.0</td>\n      <td>168930.0</td>\n      <td>-0.164442</td>\n      <td>51.404958</td>\n      <td>Metropolitan Police</td>\n      <td>Slight</td>\n      <td>1</td>\n      <td>1</td>\n      <td>...</td>\n      <td>No physical crossing facilities within 50 metres</td>\n      <td>Daylight</td>\n      <td>Fine no high winds</td>\n      <td>Dry</td>\n      <td>None</td>\n      <td>None</td>\n      <td>Urban</td>\n      <td>Yes</td>\n      <td>Non-trunk</td>\n      <td>E01003379</td>\n    </tr>\n    <tr>\n      <th>4</th>\n      <td>4</td>\n      <td>010000018</td>\n      <td>510740.0</td>\n      <td>177230.0</td>\n      <td>-0.406580</td>\n      <td>51.483139</td>\n      <td>Metropolitan Police</td>\n      <td>Slight</td>\n      <td>2</td>\n      <td>1</td>\n      <td>...</td>\n      <td>No physical crossing facilities within 50 metres</td>\n      <td>Daylight</td>\n      <td>Fine no high winds</td>\n      <td>Dry</td>\n      <td>None</td>\n      <td>None</td>\n      <td>Urban</td>\n      <td>Yes</td>\n      <td>Non-trunk</td>\n      <td>E01002583</td>\n    </tr>\n  </tbody>\n</table>\n<p>5 rows × 35 columns</p>\n</div>"
     },
     "execution_count": 3,
     "metadata": {},
     "output_type": "execute_result"
    }
   ],
   "source": [
    "df = pd.read_csv(\"cleaned_ds.csv\", low_memory=False)\n",
    "df.head()"
   ]
  },
  {
   "cell_type": "markdown",
   "metadata": {},
   "source": [
    "# Adding a new feature\n",
    "\n",
    "## City name using the longitude and latitude\n",
    "\n",
    "We will use the reverse Geocoding mechanism in order to retrieve the address using the coordinates. Ref: https://towardsdatascience.com/reverse-geocoding-in-python-a915acf29eb6\n",
    "Many sources on the internet suggests using Geopy library. However, the problem is that this library uses external service providers on the internet to get the address. Making a request for each entry in our dataset is a waste of time and resources. \n",
    "It's better to look for an offline alternative to do this reverse geocoding."
   ]
  },
  {
   "cell_type": "markdown",
   "metadata": {},
   "source": [
    "We will use a library called reverse geocoder as referenced here: https://github.com/thampiman/reverse-geocoder"
   ]
  },
  {
   "cell_type": "code",
   "execution_count": 4,
   "metadata": {},
   "outputs": [
    {
     "name": "stdout",
     "output_type": "stream",
     "text": [
      "Collecting reverse_geocoder\n",
      "  Downloading reverse_geocoder-1.5.1.tar.gz (2.2 MB)\n",
      "     ---------------------------------------- 2.2/2.2 MB 2.7 MB/s eta 0:00:00\n",
      "  Preparing metadata (setup.py): started\n",
      "  Preparing metadata (setup.py): finished with status 'done'\n",
      "Requirement already satisfied: numpy>=1.11.0 in c:\\users\\lenovo\\pycharmprojects\\de\\venv\\lib\\site-packages (from reverse_geocoder) (1.23.5)\n",
      "Collecting scipy>=0.17.1\n",
      "  Using cached scipy-1.9.3-cp310-cp310-win_amd64.whl (40.1 MB)\n",
      "Building wheels for collected packages: reverse_geocoder\n",
      "  Building wheel for reverse_geocoder (setup.py): started\n",
      "  Building wheel for reverse_geocoder (setup.py): finished with status 'done'\n",
      "  Created wheel for reverse_geocoder: filename=reverse_geocoder-1.5.1-py3-none-any.whl size=2268068 sha256=7b8b4a14920ebbc8927bcad0ffefe4ec3f9fd957243946db4db9bab6fc155458\n",
      "  Stored in directory: c:\\users\\lenovo\\appdata\\local\\pip\\cache\\wheels\\1c\\07\\35\\8bc99c070537c835a0696e47609f6270f174cb70b86b65c7d8\n",
      "Successfully built reverse_geocoder\n",
      "Installing collected packages: scipy, reverse_geocoder\n",
      "Successfully installed reverse_geocoder-1.5.1 scipy-1.9.3\n",
      "Note: you may need to restart the kernel to use updated packages.\n"
     ]
    }
   ],
   "source": [
    "%pip install reverse_geocoder"
   ]
  },
  {
   "cell_type": "markdown",
   "metadata": {},
   "source": [
    "Let's look at a sample output of the query."
   ]
  },
  {
   "cell_type": "code",
   "execution_count": 5,
   "metadata": {},
   "outputs": [
    {
     "name": "stdout",
     "output_type": "stream",
     "text": [
      "Loading formatted geocoded file...\n",
      "[{'lat': '51.51116', 'lon': '-0.18426', 'name': 'Bayswater', 'admin1': 'England', 'admin2': 'Greater London', 'cc': 'GB'}]\n"
     ]
    }
   ],
   "source": [
    "import reverse_geocoder as rg\n",
    "\n",
    "coordinates = [(51.5214588,-0.1729636)]\n",
    "results = rg.search(coordinates) # default mode = 2\n",
    "print(results)"
   ]
  },
  {
   "cell_type": "markdown",
   "metadata": {},
   "source": [
    "The output has different regions of the address. We are mainly interested in the city (county) name which is admin2 in this case containing \"Greater London\"."
   ]
  },
  {
   "cell_type": "markdown",
   "metadata": {},
   "source": [
    "Let's get the addresses of all dataset rows"
   ]
  },
  {
   "cell_type": "code",
   "execution_count": 9,
   "metadata": {},
   "outputs": [
    {
     "name": "stdout",
     "output_type": "stream",
     "text": [
      "[{'lat': '51.6128', 'lon': '-0.27539', 'name': 'Edgware', 'admin1': 'England', 'admin2': 'Greater London', 'cc': 'GB'}, {'lat': '51.48315', 'lon': '0.17484', 'name': 'Erith', 'admin1': 'England', 'admin2': 'Greater London', 'cc': 'GB'}, {'lat': '51.5489', 'lon': '-0.48211', 'name': 'Uxbridge', 'admin1': 'England', 'admin2': 'Greater London', 'cc': 'GB'}, {'lat': '51.40322', 'lon': '-0.16831', 'name': 'Mitcham', 'admin1': 'England', 'admin2': 'Greater London', 'cc': 'GB'}, {'lat': '51.51579', 'lon': '-0.4234', 'name': 'Hayes', 'admin1': 'England', 'admin2': 'Greater London', 'cc': 'GB'}, {'lat': '51.38333', 'lon': '-0.1', 'name': 'Croydon', 'admin1': 'England', 'admin2': 'Greater London', 'cc': 'GB'}, {'lat': '51.51116', 'lon': '-0.18426', 'name': 'Bayswater', 'admin1': 'England', 'admin2': 'Greater London', 'cc': 'GB'}, {'lat': '51.6', 'lon': '-0.21667', 'name': 'Hendon', 'admin1': 'England', 'admin2': 'Greater London', 'cc': 'GB'}, {'lat': '51.50094', 'lon': '-0.19175', 'name': 'Kensington', 'admin1': 'England', 'admin2': 'Greater London', 'cc': 'GB'}, {'lat': '51.4647', 'lon': '0.0079', 'name': 'Blackheath', 'admin1': 'England', 'admin2': 'Greater London', 'cc': 'GB'}]\n"
     ]
    }
   ],
   "source": [
    "coordinates = list(zip(df.latitude, df.longitude))\n",
    "results = rg.search(coordinates) # default mode = 2\n",
    "print(results[:10])"
   ]
  },
  {
   "cell_type": "markdown",
   "metadata": {},
   "source": [
    "Extract the city names from the address \"admin2\"."
   ]
  },
  {
   "cell_type": "code",
   "execution_count": 12,
   "metadata": {},
   "outputs": [
    {
     "data": {
      "text/plain": "Greater London      24269\nKent                 4986\nSurrey               3736\nEssex                3190\nHampshire            3143\n                    ...  \nBlaenau Gwent          70\nShetland Islands       26\nOrkney Islands         25\nEilean Siar            25\nIsles of Scilly         1\nName: city, Length: 174, dtype: int64"
     },
     "execution_count": 12,
     "metadata": {},
     "output_type": "execute_result"
    }
   ],
   "source": [
    "cities = list(map(lambda res: res['admin2'], results))\n",
    "df[\"city\"] = cities\n",
    "df[\"city\"].value_counts()"
   ]
  },
  {
   "cell_type": "code",
   "execution_count": 13,
   "metadata": {},
   "outputs": [
    {
     "data": {
      "text/plain": "   Unnamed: 0 accident_reference  location_easting_osgr  \\\n0           0          010000005               519310.0   \n1           1          010000006               551920.0   \n2           2          010000008               505930.0   \n3           3          010000016               527770.0   \n4           4          010000018               510740.0   \n\n   location_northing_osgr  longitude   latitude         police_force  \\\n0                188730.0  -0.279323  51.584754  Metropolitan Police   \n1                174560.0   0.184928  51.449595  Metropolitan Police   \n2                183850.0  -0.473837  51.543563  Metropolitan Police   \n3                168930.0  -0.164442  51.404958  Metropolitan Police   \n4                177230.0  -0.406580  51.483139  Metropolitan Police   \n\n  accident_severity  number_of_vehicles  number_of_casualties  ...  \\\n0            Slight                   2                     1  ...   \n1            Slight                   1                     1  ...   \n2            Slight                   1                     1  ...   \n3            Slight                   1                     1  ...   \n4            Slight                   2                     1  ...   \n\n          light_conditions  weather_conditions road_surface_conditions  \\\n0  Darkness - lights unlit  Fine no high winds                     Dry   \n1    Darkness - lights lit  Fine no high winds                     Dry   \n2    Darkness - lights lit  Fine no high winds                     Dry   \n3                 Daylight  Fine no high winds                     Dry   \n4                 Daylight  Fine no high winds                     Dry   \n\n  special_conditions_at_site carriageway_hazards urban_or_rural_area  \\\n0                       None                None               Urban   \n1                       None                None               Urban   \n2                       None                None               Urban   \n3                       None                None               Urban   \n4                       None                None               Urban   \n\n  did_police_officer_attend_scene_of_accident trunk_road_flag  \\\n0                                         Yes       Non-trunk   \n1                                         Yes       Non-trunk   \n2                                         Yes       Non-trunk   \n3                                         Yes       Non-trunk   \n4                                         Yes       Non-trunk   \n\n  lsoa_of_accident_location            city  \n0                 E01000543  Greater London  \n1                 E01000375  Greater London  \n2                 E01033725  Greater London  \n3                 E01003379  Greater London  \n4                 E01002583  Greater London  \n\n[5 rows x 36 columns]",
      "text/html": "<div>\n<style scoped>\n    .dataframe tbody tr th:only-of-type {\n        vertical-align: middle;\n    }\n\n    .dataframe tbody tr th {\n        vertical-align: top;\n    }\n\n    .dataframe thead th {\n        text-align: right;\n    }\n</style>\n<table border=\"1\" class=\"dataframe\">\n  <thead>\n    <tr style=\"text-align: right;\">\n      <th></th>\n      <th>Unnamed: 0</th>\n      <th>accident_reference</th>\n      <th>location_easting_osgr</th>\n      <th>location_northing_osgr</th>\n      <th>longitude</th>\n      <th>latitude</th>\n      <th>police_force</th>\n      <th>accident_severity</th>\n      <th>number_of_vehicles</th>\n      <th>number_of_casualties</th>\n      <th>...</th>\n      <th>light_conditions</th>\n      <th>weather_conditions</th>\n      <th>road_surface_conditions</th>\n      <th>special_conditions_at_site</th>\n      <th>carriageway_hazards</th>\n      <th>urban_or_rural_area</th>\n      <th>did_police_officer_attend_scene_of_accident</th>\n      <th>trunk_road_flag</th>\n      <th>lsoa_of_accident_location</th>\n      <th>city</th>\n    </tr>\n  </thead>\n  <tbody>\n    <tr>\n      <th>0</th>\n      <td>0</td>\n      <td>010000005</td>\n      <td>519310.0</td>\n      <td>188730.0</td>\n      <td>-0.279323</td>\n      <td>51.584754</td>\n      <td>Metropolitan Police</td>\n      <td>Slight</td>\n      <td>2</td>\n      <td>1</td>\n      <td>...</td>\n      <td>Darkness - lights unlit</td>\n      <td>Fine no high winds</td>\n      <td>Dry</td>\n      <td>None</td>\n      <td>None</td>\n      <td>Urban</td>\n      <td>Yes</td>\n      <td>Non-trunk</td>\n      <td>E01000543</td>\n      <td>Greater London</td>\n    </tr>\n    <tr>\n      <th>1</th>\n      <td>1</td>\n      <td>010000006</td>\n      <td>551920.0</td>\n      <td>174560.0</td>\n      <td>0.184928</td>\n      <td>51.449595</td>\n      <td>Metropolitan Police</td>\n      <td>Slight</td>\n      <td>1</td>\n      <td>1</td>\n      <td>...</td>\n      <td>Darkness - lights lit</td>\n      <td>Fine no high winds</td>\n      <td>Dry</td>\n      <td>None</td>\n      <td>None</td>\n      <td>Urban</td>\n      <td>Yes</td>\n      <td>Non-trunk</td>\n      <td>E01000375</td>\n      <td>Greater London</td>\n    </tr>\n    <tr>\n      <th>2</th>\n      <td>2</td>\n      <td>010000008</td>\n      <td>505930.0</td>\n      <td>183850.0</td>\n      <td>-0.473837</td>\n      <td>51.543563</td>\n      <td>Metropolitan Police</td>\n      <td>Slight</td>\n      <td>1</td>\n      <td>1</td>\n      <td>...</td>\n      <td>Darkness - lights lit</td>\n      <td>Fine no high winds</td>\n      <td>Dry</td>\n      <td>None</td>\n      <td>None</td>\n      <td>Urban</td>\n      <td>Yes</td>\n      <td>Non-trunk</td>\n      <td>E01033725</td>\n      <td>Greater London</td>\n    </tr>\n    <tr>\n      <th>3</th>\n      <td>3</td>\n      <td>010000016</td>\n      <td>527770.0</td>\n      <td>168930.0</td>\n      <td>-0.164442</td>\n      <td>51.404958</td>\n      <td>Metropolitan Police</td>\n      <td>Slight</td>\n      <td>1</td>\n      <td>1</td>\n      <td>...</td>\n      <td>Daylight</td>\n      <td>Fine no high winds</td>\n      <td>Dry</td>\n      <td>None</td>\n      <td>None</td>\n      <td>Urban</td>\n      <td>Yes</td>\n      <td>Non-trunk</td>\n      <td>E01003379</td>\n      <td>Greater London</td>\n    </tr>\n    <tr>\n      <th>4</th>\n      <td>4</td>\n      <td>010000018</td>\n      <td>510740.0</td>\n      <td>177230.0</td>\n      <td>-0.406580</td>\n      <td>51.483139</td>\n      <td>Metropolitan Police</td>\n      <td>Slight</td>\n      <td>2</td>\n      <td>1</td>\n      <td>...</td>\n      <td>Daylight</td>\n      <td>Fine no high winds</td>\n      <td>Dry</td>\n      <td>None</td>\n      <td>None</td>\n      <td>Urban</td>\n      <td>Yes</td>\n      <td>Non-trunk</td>\n      <td>E01002583</td>\n      <td>Greater London</td>\n    </tr>\n  </tbody>\n</table>\n<p>5 rows × 36 columns</p>\n</div>"
     },
     "execution_count": 13,
     "metadata": {},
     "output_type": "execute_result"
    }
   ],
   "source": [
    "df.head()"
   ]
  },
  {
   "cell_type": "markdown",
   "metadata": {},
   "source": [
    "# Encode the city name using label encoding (and add to lookup table)"
   ]
  },
  {
   "cell_type": "markdown",
   "metadata": {},
   "source": [
    "### Apply label encoding step"
   ]
  },
  {
   "cell_type": "code",
   "execution_count": 16,
   "metadata": {},
   "outputs": [],
   "source": [
    "from sklearn import preprocessing\n",
    "city_labels = preprocessing.LabelEncoder().fit_transform(df[\"city\"])"
   ]
  },
  {
   "cell_type": "markdown",
   "source": [
    "### Saving labels to look up table"
   ],
   "metadata": {
    "collapsed": false
   }
  },
  {
   "cell_type": "code",
   "execution_count": 17,
   "outputs": [
    {
     "data": {
      "text/plain": "             city  label\n0  Greater London     79\n1  Greater London     79",
      "text/html": "<div>\n<style scoped>\n    .dataframe tbody tr th:only-of-type {\n        vertical-align: middle;\n    }\n\n    .dataframe tbody tr th {\n        vertical-align: top;\n    }\n\n    .dataframe thead th {\n        text-align: right;\n    }\n</style>\n<table border=\"1\" class=\"dataframe\">\n  <thead>\n    <tr style=\"text-align: right;\">\n      <th></th>\n      <th>city</th>\n      <th>label</th>\n    </tr>\n  </thead>\n  <tbody>\n    <tr>\n      <th>0</th>\n      <td>Greater London</td>\n      <td>79</td>\n    </tr>\n    <tr>\n      <th>1</th>\n      <td>Greater London</td>\n      <td>79</td>\n    </tr>\n  </tbody>\n</table>\n</div>"
     },
     "execution_count": 17,
     "metadata": {},
     "output_type": "execute_result"
    }
   ],
   "source": [
    "cities_dataFrame = pd.DataFrame()\n",
    "cities_dataFrame[\"city\"]=df[\"city\"]\n",
    "cities_dataFrame[\"label\"]=city_labels\n",
    "cities_dataFrame.head(2)"
   ],
   "metadata": {
    "collapsed": false
   }
  },
  {
   "cell_type": "markdown",
   "source": [
    "### Saving dataFrame to a new csv file"
   ],
   "metadata": {
    "collapsed": false
   }
  },
  {
   "cell_type": "code",
   "execution_count": 18,
   "outputs": [],
   "source": [
    "cities_dataFrame.to_csv(\"cities_labels\")"
   ],
   "metadata": {
    "collapsed": false
   }
  },
  {
   "cell_type": "markdown",
   "metadata": {},
   "source": [
    "# Ask 2 question about the feature and visualize the answer"
   ]
  },
  {
   "cell_type": "markdown",
   "metadata": {},
   "source": []
  },
  {
   "cell_type": "code",
   "execution_count": null,
   "metadata": {},
   "outputs": [],
   "source": []
  }
 ],
 "metadata": {
  "kernelspec": {
   "display_name": "Python 3.9.6 64-bit",
   "language": "python",
   "name": "python3"
  },
  "language_info": {
   "codemirror_mode": {
    "name": "ipython",
    "version": 3
   },
   "file_extension": ".py",
   "mimetype": "text/x-python",
   "name": "python",
   "nbconvert_exporter": "python",
   "pygments_lexer": "ipython3",
   "version": "3.9.6"
  },
  "orig_nbformat": 4,
  "vscode": {
   "interpreter": {
    "hash": "347931c39d20c80347bba0ccb37da6e5177e4767724cf350b2ca0ccdf14bccb1"
   }
  }
 },
 "nbformat": 4,
 "nbformat_minor": 2
}
